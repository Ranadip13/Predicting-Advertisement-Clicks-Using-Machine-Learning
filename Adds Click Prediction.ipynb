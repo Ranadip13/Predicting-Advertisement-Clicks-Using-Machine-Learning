{
 "cells": [
  {
   "cell_type": "markdown",
   "metadata": {},
   "source": [
    "# **Predicting Advertisement Clicks Using Machine Learning**"
   ]
  },
  {
   "cell_type": "markdown",
   "metadata": {},
   "source": [
    "The objective of this project is to predict whether a user will click on an advertisement on a website based on their behaviour and profile. When a user visits a site, businesses want to know if they are likely to engage with an ad. By analyzing past data on ad clicks and user activity, a model can be built to make better predictions. This helps businesses show ads to the right people and improve their marketing efforts."
   ]
  },
  {
   "cell_type": "code",
   "execution_count": 2,
   "metadata": {},
   "outputs": [],
   "source": [
    "# Supressing the warning messages\n",
    "import warnings\n",
    "warnings.filterwarnings('ignore')"
   ]
  },
  {
   "cell_type": "markdown",
   "metadata": {},
   "source": [
    "## Reading the Dataset\n",
    "The file Ad click data.csv contains historical data on users and the ads they were exposed to, along with whether they clicked on the ad or not. The goal is to analyze this data and build a model to predict whether a user will click on an ad on the website."
   ]
  },
  {
   "cell_type": "code",
   "execution_count": 3,
   "metadata": {},
   "outputs": [
    {
     "data": {
      "text/html": [
       "<div>\n",
       "<style scoped>\n",
       "    .dataframe tbody tr th:only-of-type {\n",
       "        vertical-align: middle;\n",
       "    }\n",
       "\n",
       "    .dataframe tbody tr th {\n",
       "        vertical-align: top;\n",
       "    }\n",
       "\n",
       "    .dataframe thead th {\n",
       "        text-align: right;\n",
       "    }\n",
       "</style>\n",
       "<table border=\"1\" class=\"dataframe\">\n",
       "  <thead>\n",
       "    <tr style=\"text-align: right;\">\n",
       "      <th></th>\n",
       "      <th>VistID</th>\n",
       "      <th>Time_Spent</th>\n",
       "      <th>Age</th>\n",
       "      <th>Avg_Income</th>\n",
       "      <th>Internet_Usage</th>\n",
       "      <th>Ad_Topic</th>\n",
       "      <th>Country_Name</th>\n",
       "      <th>City_code</th>\n",
       "      <th>Male</th>\n",
       "      <th>Time_Period</th>\n",
       "      <th>Weekday</th>\n",
       "      <th>Month</th>\n",
       "      <th>Year</th>\n",
       "      <th>Clicked</th>\n",
       "    </tr>\n",
       "  </thead>\n",
       "  <tbody>\n",
       "    <tr>\n",
       "      <th>0</th>\n",
       "      <td>5183153</td>\n",
       "      <td>87.97</td>\n",
       "      <td>43</td>\n",
       "      <td>55901.12</td>\n",
       "      <td>185.46</td>\n",
       "      <td>product_11</td>\n",
       "      <td>Serbia</td>\n",
       "      <td>City_5</td>\n",
       "      <td>No</td>\n",
       "      <td>Mid-Night</td>\n",
       "      <td>Thursday</td>\n",
       "      <td>July</td>\n",
       "      <td>2020</td>\n",
       "      <td>0</td>\n",
       "    </tr>\n",
       "    <tr>\n",
       "      <th>1</th>\n",
       "      <td>4023265</td>\n",
       "      <td>51.63</td>\n",
       "      <td>50</td>\n",
       "      <td>39132.00</td>\n",
       "      <td>176.73</td>\n",
       "      <td>product_8</td>\n",
       "      <td>Turkmenistan</td>\n",
       "      <td>City_1</td>\n",
       "      <td>No</td>\n",
       "      <td>Evening</td>\n",
       "      <td>Saturday</td>\n",
       "      <td>June</td>\n",
       "      <td>2020</td>\n",
       "      <td>1</td>\n",
       "    </tr>\n",
       "    <tr>\n",
       "      <th>2</th>\n",
       "      <td>4708083</td>\n",
       "      <td>82.37</td>\n",
       "      <td>38</td>\n",
       "      <td>57032.36</td>\n",
       "      <td>210.60</td>\n",
       "      <td>product_6</td>\n",
       "      <td>Northern Mariana Islands</td>\n",
       "      <td>City_2</td>\n",
       "      <td>No</td>\n",
       "      <td>Morning</td>\n",
       "      <td>Tuesday</td>\n",
       "      <td>January</td>\n",
       "      <td>2020</td>\n",
       "      <td>0</td>\n",
       "    </tr>\n",
       "    <tr>\n",
       "      <th>3</th>\n",
       "      <td>9771815</td>\n",
       "      <td>62.06</td>\n",
       "      <td>45</td>\n",
       "      <td>48868.00</td>\n",
       "      <td>190.05</td>\n",
       "      <td>product_19</td>\n",
       "      <td>South Africa</td>\n",
       "      <td>City_3</td>\n",
       "      <td>Yes</td>\n",
       "      <td>Morning</td>\n",
       "      <td>Thursday</td>\n",
       "      <td>April</td>\n",
       "      <td>2020</td>\n",
       "      <td>1</td>\n",
       "    </tr>\n",
       "    <tr>\n",
       "      <th>4</th>\n",
       "      <td>6451317</td>\n",
       "      <td>77.66</td>\n",
       "      <td>31</td>\n",
       "      <td>61608.23</td>\n",
       "      <td>204.86</td>\n",
       "      <td>product_11</td>\n",
       "      <td>Guadeloupe</td>\n",
       "      <td>City_2</td>\n",
       "      <td>No</td>\n",
       "      <td>Noon</td>\n",
       "      <td>Thursday</td>\n",
       "      <td>January</td>\n",
       "      <td>2020</td>\n",
       "      <td>0</td>\n",
       "    </tr>\n",
       "  </tbody>\n",
       "</table>\n",
       "</div>"
      ],
      "text/plain": [
       "    VistID  Time_Spent  Age  Avg_Income  Internet_Usage    Ad_Topic  \\\n",
       "0  5183153       87.97   43    55901.12          185.46  product_11   \n",
       "1  4023265       51.63   50    39132.00          176.73   product_8   \n",
       "2  4708083       82.37   38    57032.36          210.60   product_6   \n",
       "3  9771815       62.06   45    48868.00          190.05  product_19   \n",
       "4  6451317       77.66   31    61608.23          204.86  product_11   \n",
       "\n",
       "               Country_Name City_code Male Time_Period   Weekday    Month  \\\n",
       "0                    Serbia    City_5   No   Mid-Night  Thursday     July   \n",
       "1              Turkmenistan    City_1   No     Evening  Saturday     June   \n",
       "2  Northern Mariana Islands    City_2   No     Morning   Tuesday  January   \n",
       "3              South Africa    City_3  Yes     Morning  Thursday    April   \n",
       "4                Guadeloupe    City_2   No        Noon  Thursday  January   \n",
       "\n",
       "   Year  Clicked  \n",
       "0  2020        0  \n",
       "1  2020        1  \n",
       "2  2020        0  \n",
       "3  2020        1  \n",
       "4  2020        0  "
      ]
     },
     "execution_count": 3,
     "metadata": {},
     "output_type": "execute_result"
    }
   ],
   "source": [
    "import pandas as pd\n",
    "import numpy as np\n",
    "\n",
    "# Reading the dataset\n",
    "AdClickData=pd.read_csv(\"Ad click Data.csv\", encoding='latin')\n",
    "AdClickData.head()"
   ]
  },
  {
   "cell_type": "markdown",
   "metadata": {},
   "source": [
    "**Data Description**\n",
    "\n",
    "This data set contains the following features:\n",
    "- **VistID:** The id for the user visit on website\n",
    "- **Time_Spent:** Average time spent by user on site in minutes\n",
    "- **Age:** User age in years\n",
    "- **Avg_Income:** Average Income of geographical area of user\n",
    "- **Internet_Usage:** Average minutes a day user spent on the internet\n",
    "- **Ad_Topic:** Headline of the advertisement\n",
    "- **Country_Name:** Country of user\n",
    "- **City_Code:** City of user\n",
    "- **Male:** Whether or not user was male\n",
    "- **Time_Period:** Time at which consumer clicked on Ad\n",
    "- **Weekday:** Name of the day\n",
    "- **Month:** Name of the months\n",
    "- **Year:** Which year the data is collected\n",
    "- **Clicked:** 0 means not clicked and 1 means that user clicked the Ad."
   ]
  },
  {
   "cell_type": "markdown",
   "metadata": {},
   "source": [
    "**Removing duplicate rows if any**"
   ]
  },
  {
   "cell_type": "code",
   "execution_count": 4,
   "metadata": {},
   "outputs": [
    {
     "name": "stdout",
     "output_type": "stream",
     "text": [
      "Shape of the dat before removing duplicate values:  (6657, 14)\n",
      "Shape of the data fter removing duplicate values:  (6657, 14)\n"
     ]
    }
   ],
   "source": [
    "print(\"Shape of the dat before removing duplicate values: \", AdClickData.shape)\n",
    "\n",
    "# Removing duplicate values is any\n",
    "AdClickData=AdClickData.drop_duplicates()\n",
    "print(\"Shape of the data fter removing duplicate values: \",AdClickData.shape)"
   ]
  },
  {
   "cell_type": "markdown",
   "metadata": {},
   "source": [
    "- There are no duplicate values present in the datast"
   ]
  },
  {
   "cell_type": "code",
   "execution_count": null,
   "metadata": {},
   "outputs": [],
   "source": []
  },
  {
   "cell_type": "markdown",
   "metadata": {},
   "source": [
    "## Define the problem Statement\n",
    "\n",
    "**To create a predictive model that can determine whether a user will click on a given product advertisement or not.**\n",
    "\n",
    "\n",
    "**Target Variable:** Clicked\n",
    "- Clicked=1 means the ad was clicked.\n",
    "- Clicked=0 means the ad was NOT clicked.\n",
    "\n",
    "**Predictors:** Time_Spent, Age, Avg_Income, Internet_Usage, Ad_Topic... etc.\n",
    "\n",
    "**Determining the type of Machine Learning:** Since our goal is to predict whether a user will click on a given product advertisement or not, this makes it a binary classification problem. Therefore, a supervised machine learning classification model is needed."
   ]
  },
  {
   "cell_type": "code",
   "execution_count": null,
   "metadata": {},
   "outputs": [],
   "source": []
  },
  {
   "cell_type": "markdown",
   "metadata": {},
   "source": [
    "## Looking at the distribution of Target Variable\n",
    "In a classification problem, having a balanced distribution of classes is desirable, otherwise it can affect the machine learning algorithm's ability to learn all classes effectively. When one class has significantly more instances than the others, the model struggles to learn patterns for the minority class. This results in biased predictions favoring the majority class, leading to misleading accuracy and poor generalization. To improve model performance and ensure fair predictions, it is important to address class imbalance using appropriate techniques."
   ]
  },
  {
   "cell_type": "code",
   "execution_count": 5,
   "metadata": {},
   "outputs": [
    {
     "data": {
      "text/plain": [
       "<Axes: xlabel='Clicked'>"
      ]
     },
     "execution_count": 5,
     "metadata": {},
     "output_type": "execute_result"
    },
    {
     "data": {
      "image/png": "[encoded data removed]",
      "text/plain": [
       "<Figure size 400x300 with 1 Axes>"
      ]
     },
     "metadata": {},
     "output_type": "display_data"
    }
   ],
   "source": [
    "%matplotlib inline\n",
    "groupdata=AdClickData.groupby(\"Clicked\").size()\n",
    "groupdata.plot(kind='bar', figsize=(4,3))"
   ]
  },
  {
   "cell_type": "markdown",
   "metadata": {},
   "source": [
    "- The data distribution of the target variable is satisfactory to proceed further. There are sufficient number of rows for each category to learn from."
   ]
  },
  {
   "cell_type": "code",
   "execution_count": null,
   "metadata": {},
   "outputs": [],
   "source": []
  },
  {
   "cell_type": "markdown",
   "metadata": {},
   "source": [
    "## Basic Data Exploration\n",
    "This step helps in understanding the overall data, including its size and column types (Quantitative, Categorical, or Qualitative). It also helps in identifying irrelevant columns by evaluating their impact on the target variable. If a column does not influence whether the advertisement is clicked or not, it should be removed; otherwise, it should be retained for further analysis."
   ]
  },
  {
   "cell_type": "code",
   "execution_count": 6,
   "metadata": {},
   "outputs": [
    {
     "data": {
      "text/html": [
       "<div>\n",
       "<style scoped>\n",
       "    .dataframe tbody tr th:only-of-type {\n",
       "        vertical-align: middle;\n",
       "    }\n",
       "\n",
       "    .dataframe tbody tr th {\n",
       "        vertical-align: top;\n",
       "    }\n",
       "\n",
       "    .dataframe thead th {\n",
       "        text-align: right;\n",
       "    }\n",
       "</style>\n",
       "<table border=\"1\" class=\"dataframe\">\n",
       "  <thead>\n",
       "    <tr style=\"text-align: right;\">\n",
       "      <th></th>\n",
       "      <th>VistID</th>\n",
       "      <th>Time_Spent</th>\n",
       "      <th>Age</th>\n",
       "      <th>Avg_Income</th>\n",
       "      <th>Internet_Usage</th>\n",
       "      <th>Ad_Topic</th>\n",
       "      <th>Country_Name</th>\n",
       "      <th>City_code</th>\n",
       "      <th>Male</th>\n",
       "      <th>Time_Period</th>\n",
       "      <th>Weekday</th>\n",
       "      <th>Month</th>\n",
       "      <th>Year</th>\n",
       "      <th>Clicked</th>\n",
       "    </tr>\n",
       "  </thead>\n",
       "  <tbody>\n",
       "    <tr>\n",
       "      <th>0</th>\n",
       "      <td>5183153</td>\n",
       "      <td>87.97</td>\n",
       "      <td>43</td>\n",
       "      <td>55901.12</td>\n",
       "      <td>185.46</td>\n",
       "      <td>product_11</td>\n",
       "      <td>Serbia</td>\n",
       "      <td>City_5</td>\n",
       "      <td>No</td>\n",
       "      <td>Mid-Night</td>\n",
       "      <td>Thursday</td>\n",
       "      <td>July</td>\n",
       "      <td>2020</td>\n",
       "      <td>0</td>\n",
       "    </tr>\n",
       "    <tr>\n",
       "      <th>1</th>\n",
       "      <td>4023265</td>\n",
       "      <td>51.63</td>\n",
       "      <td>50</td>\n",
       "      <td>39132.00</td>\n",
       "      <td>176.73</td>\n",
       "      <td>product_8</td>\n",
       "      <td>Turkmenistan</td>\n",
       "      <td>City_1</td>\n",
       "      <td>No</td>\n",
       "      <td>Evening</td>\n",
       "      <td>Saturday</td>\n",
       "      <td>June</td>\n",
       "      <td>2020</td>\n",
       "      <td>1</td>\n",
       "    </tr>\n",
       "    <tr>\n",
       "      <th>2</th>\n",
       "      <td>4708083</td>\n",
       "      <td>82.37</td>\n",
       "      <td>38</td>\n",
       "      <td>57032.36</td>\n",
       "      <td>210.60</td>\n",
       "      <td>product_6</td>\n",
       "      <td>Northern Mariana Islands</td>\n",
       "      <td>City_2</td>\n",
       "      <td>No</td>\n",
       "      <td>Morning</td>\n",
       "      <td>Tuesday</td>\n",
       "      <td>January</td>\n",
       "      <td>2020</td>\n",
       "      <td>0</td>\n",
       "    </tr>\n",
       "    <tr>\n",
       "      <th>3</th>\n",
       "      <td>9771815</td>\n",
       "      <td>62.06</td>\n",
       "      <td>45</td>\n",
       "      <td>48868.00</td>\n",
       "      <td>190.05</td>\n",
       "      <td>product_19</td>\n",
       "      <td>South Africa</td>\n",
       "      <td>City_3</td>\n",
       "      <td>Yes</td>\n",
       "      <td>Morning</td>\n",
       "      <td>Thursday</td>\n",
       "      <td>April</td>\n",
       "      <td>2020</td>\n",
       "      <td>1</td>\n",
       "    </tr>\n",
       "    <tr>\n",
       "      <th>4</th>\n",
       "      <td>6451317</td>\n",
       "      <td>77.66</td>\n",
       "      <td>31</td>\n",
       "      <td>61608.23</td>\n",
       "      <td>204.86</td>\n",
       "      <td>product_11</td>\n",
       "      <td>Guadeloupe</td>\n",
       "      <td>City_2</td>\n",
       "      <td>No</td>\n",
       "      <td>Noon</td>\n",
       "      <td>Thursday</td>\n",
       "      <td>January</td>\n",
       "      <td>2020</td>\n",
       "      <td>0</td>\n",
       "    </tr>\n",
       "  </tbody>\n",
       "</table>\n",
       "</div>"
      ],
      "text/plain": [
       "    VistID  Time_Spent  Age  Avg_Income  Internet_Usage    Ad_Topic  \\\n",
       "0  5183153       87.97   43    55901.12          185.46  product_11   \n",
       "1  4023265       51.63   50    39132.00          176.73   product_8   \n",
       "2  4708083       82.37   38    57032.36          210.60   product_6   \n",
       "3  9771815       62.06   45    48868.00          190.05  product_19   \n",
       "4  6451317       77.66   31    61608.23          204.86  product_11   \n",
       "\n",
       "               Country_Name City_code Male Time_Period   Weekday    Month  \\\n",
       "0                    Serbia    City_5   No   Mid-Night  Thursday     July   \n",
       "1              Turkmenistan    City_1   No     Evening  Saturday     June   \n",
       "2  Northern Mariana Islands    City_2   No     Morning   Tuesday  January   \n",
       "3              South Africa    City_3  Yes     Morning  Thursday    April   \n",
       "4                Guadeloupe    City_2   No        Noon  Thursday  January   \n",
       "\n",
       "   Year  Clicked  \n",
       "0  2020        0  \n",
       "1  2020        1  \n",
       "2  2020        0  \n",
       "3  2020        1  \n",
       "4  2020        0  "
      ]
     },
     "execution_count": 6,
     "metadata": {},
     "output_type": "execute_result"
    }
   ],
   "source": [
    "# Looking at sample rows in the data\n",
    "AdClickData.head()"
   ]
  },
  {
   "cell_type": "code",
   "execution_count": 7,
   "metadata": {},
   "outputs": [
    {
     "name": "stdout",
     "output_type": "stream",
     "text": [
      "<class 'pandas.core.frame.DataFrame'>\n",
      "RangeIndex: 6657 entries, 0 to 6656\n",
      "Data columns (total 14 columns):\n",
      " #   Column          Non-Null Count  Dtype  \n",
      "---  ------          --------------  -----  \n",
      " 0   VistID          6657 non-null   int64  \n",
      " 1   Time_Spent      6657 non-null   float64\n",
      " 2   Age             6657 non-null   int64  \n",
      " 3   Avg_Income      6657 non-null   float64\n",
      " 4   Internet_Usage  6657 non-null   float64\n",
      " 5   Ad_Topic        6657 non-null   object \n",
      " 6   Country_Name    6657 non-null   object \n",
      " 7   City_code       6657 non-null   object \n",
      " 8   Male            6657 non-null   object \n",
      " 9   Time_Period     6657 non-null   object \n",
      " 10  Weekday         6657 non-null   object \n",
      " 11  Month           6657 non-null   object \n",
      " 12  Year            6657 non-null   int64  \n",
      " 13  Clicked         6657 non-null   int64  \n",
      "dtypes: float64(3), int64(4), object(7)\n",
      "memory usage: 728.2+ KB\n"
     ]
    }
   ],
   "source": [
    "AdClickData.info()"
   ]
  },
  {
   "cell_type": "code",
   "execution_count": 8,
   "metadata": {},
   "outputs": [
    {
     "data": {
      "text/html": [
       "<div>\n",
       "<style scoped>\n",
       "    .dataframe tbody tr th:only-of-type {\n",
       "        vertical-align: middle;\n",
       "    }\n",
       "\n",
       "    .dataframe tbody tr th {\n",
       "        vertical-align: top;\n",
       "    }\n",
       "\n",
       "    .dataframe thead th {\n",
       "        text-align: right;\n",
       "    }\n",
       "</style>\n",
       "<table border=\"1\" class=\"dataframe\">\n",
       "  <thead>\n",
       "    <tr style=\"text-align: right;\">\n",
       "      <th></th>\n",
       "      <th>VistID</th>\n",
       "      <th>Time_Spent</th>\n",
       "      <th>Age</th>\n",
       "      <th>Avg_Income</th>\n",
       "      <th>Internet_Usage</th>\n",
       "      <th>Ad_Topic</th>\n",
       "      <th>Country_Name</th>\n",
       "      <th>City_code</th>\n",
       "      <th>Male</th>\n",
       "      <th>Time_Period</th>\n",
       "      <th>Weekday</th>\n",
       "      <th>Month</th>\n",
       "      <th>Year</th>\n",
       "      <th>Clicked</th>\n",
       "    </tr>\n",
       "  </thead>\n",
       "  <tbody>\n",
       "    <tr>\n",
       "      <th>count</th>\n",
       "      <td>6.657000e+03</td>\n",
       "      <td>6657.000000</td>\n",
       "      <td>6657.000000</td>\n",
       "      <td>6657.000000</td>\n",
       "      <td>6657.000000</td>\n",
       "      <td>6657</td>\n",
       "      <td>6657</td>\n",
       "      <td>6657</td>\n",
       "      <td>6657</td>\n",
       "      <td>6657</td>\n",
       "      <td>6657</td>\n",
       "      <td>6657</td>\n",
       "      <td>6657.0</td>\n",
       "      <td>6657.000000</td>\n",
       "    </tr>\n",
       "    <tr>\n",
       "      <th>unique</th>\n",
       "      <td>NaN</td>\n",
       "      <td>NaN</td>\n",
       "      <td>NaN</td>\n",
       "      <td>NaN</td>\n",
       "      <td>NaN</td>\n",
       "      <td>30</td>\n",
       "      <td>237</td>\n",
       "      <td>9</td>\n",
       "      <td>2</td>\n",
       "      <td>6</td>\n",
       "      <td>7</td>\n",
       "      <td>7</td>\n",
       "      <td>NaN</td>\n",
       "      <td>NaN</td>\n",
       "    </tr>\n",
       "    <tr>\n",
       "      <th>top</th>\n",
       "      <td>NaN</td>\n",
       "      <td>NaN</td>\n",
       "      <td>NaN</td>\n",
       "      <td>NaN</td>\n",
       "      <td>NaN</td>\n",
       "      <td>product_22</td>\n",
       "      <td>Canada</td>\n",
       "      <td>City_1</td>\n",
       "      <td>No</td>\n",
       "      <td>Evening</td>\n",
       "      <td>Friday</td>\n",
       "      <td>January</td>\n",
       "      <td>NaN</td>\n",
       "      <td>NaN</td>\n",
       "    </tr>\n",
       "    <tr>\n",
       "      <th>freq</th>\n",
       "      <td>NaN</td>\n",
       "      <td>NaN</td>\n",
       "      <td>NaN</td>\n",
       "      <td>NaN</td>\n",
       "      <td>NaN</td>\n",
       "      <td>266</td>\n",
       "      <td>46</td>\n",
       "      <td>2559</td>\n",
       "      <td>3571</td>\n",
       "      <td>1266</td>\n",
       "      <td>986</td>\n",
       "      <td>988</td>\n",
       "      <td>NaN</td>\n",
       "      <td>NaN</td>\n",
       "    </tr>\n",
       "    <tr>\n",
       "      <th>mean</th>\n",
       "      <td>5.542115e+06</td>\n",
       "      <td>66.849548</td>\n",
       "      <td>37.258825</td>\n",
       "      <td>55930.486743</td>\n",
       "      <td>184.947684</td>\n",
       "      <td>NaN</td>\n",
       "      <td>NaN</td>\n",
       "      <td>NaN</td>\n",
       "      <td>NaN</td>\n",
       "      <td>NaN</td>\n",
       "      <td>NaN</td>\n",
       "      <td>NaN</td>\n",
       "      <td>2020.0</td>\n",
       "      <td>0.456362</td>\n",
       "    </tr>\n",
       "    <tr>\n",
       "      <th>std</th>\n",
       "      <td>2.596284e+06</td>\n",
       "      <td>15.509672</td>\n",
       "      <td>10.995458</td>\n",
       "      <td>13110.339257</td>\n",
       "      <td>43.189896</td>\n",
       "      <td>NaN</td>\n",
       "      <td>NaN</td>\n",
       "      <td>NaN</td>\n",
       "      <td>NaN</td>\n",
       "      <td>NaN</td>\n",
       "      <td>NaN</td>\n",
       "      <td>NaN</td>\n",
       "      <td>0.0</td>\n",
       "      <td>0.498129</td>\n",
       "    </tr>\n",
       "    <tr>\n",
       "      <th>min</th>\n",
       "      <td>1.000187e+06</td>\n",
       "      <td>32.600000</td>\n",
       "      <td>19.000000</td>\n",
       "      <td>13996.500000</td>\n",
       "      <td>104.780000</td>\n",
       "      <td>NaN</td>\n",
       "      <td>NaN</td>\n",
       "      <td>NaN</td>\n",
       "      <td>NaN</td>\n",
       "      <td>NaN</td>\n",
       "      <td>NaN</td>\n",
       "      <td>NaN</td>\n",
       "      <td>2020.0</td>\n",
       "      <td>0.000000</td>\n",
       "    </tr>\n",
       "    <tr>\n",
       "      <th>25%</th>\n",
       "      <td>3.307428e+06</td>\n",
       "      <td>55.200000</td>\n",
       "      <td>28.000000</td>\n",
       "      <td>48454.000000</td>\n",
       "      <td>145.730000</td>\n",
       "      <td>NaN</td>\n",
       "      <td>NaN</td>\n",
       "      <td>NaN</td>\n",
       "      <td>NaN</td>\n",
       "      <td>NaN</td>\n",
       "      <td>NaN</td>\n",
       "      <td>NaN</td>\n",
       "      <td>2020.0</td>\n",
       "      <td>0.000000</td>\n",
       "    </tr>\n",
       "    <tr>\n",
       "      <th>50%</th>\n",
       "      <td>5.523907e+06</td>\n",
       "      <td>70.660000</td>\n",
       "      <td>36.000000</td>\n",
       "      <td>58183.000000</td>\n",
       "      <td>193.580000</td>\n",
       "      <td>NaN</td>\n",
       "      <td>NaN</td>\n",
       "      <td>NaN</td>\n",
       "      <td>NaN</td>\n",
       "      <td>NaN</td>\n",
       "      <td>NaN</td>\n",
       "      <td>NaN</td>\n",
       "      <td>2020.0</td>\n",
       "      <td>0.000000</td>\n",
       "    </tr>\n",
       "    <tr>\n",
       "      <th>75%</th>\n",
       "      <td>7.823942e+06</td>\n",
       "      <td>79.570000</td>\n",
       "      <td>46.000000</td>\n",
       "      <td>65957.000000</td>\n",
       "      <td>222.260000</td>\n",
       "      <td>NaN</td>\n",
       "      <td>NaN</td>\n",
       "      <td>NaN</td>\n",
       "      <td>NaN</td>\n",
       "      <td>NaN</td>\n",
       "      <td>NaN</td>\n",
       "      <td>NaN</td>\n",
       "      <td>2020.0</td>\n",
       "      <td>1.000000</td>\n",
       "    </tr>\n",
       "    <tr>\n",
       "      <th>max</th>\n",
       "      <td>9.999708e+06</td>\n",
       "      <td>91.430000</td>\n",
       "      <td>61.000000</td>\n",
       "      <td>79484.800000</td>\n",
       "      <td>269.960000</td>\n",
       "      <td>NaN</td>\n",
       "      <td>NaN</td>\n",
       "      <td>NaN</td>\n",
       "      <td>NaN</td>\n",
       "      <td>NaN</td>\n",
       "      <td>NaN</td>\n",
       "      <td>NaN</td>\n",
       "      <td>2020.0</td>\n",
       "      <td>1.000000</td>\n",
       "    </tr>\n",
       "  </tbody>\n",
       "</table>\n",
       "</div>"
      ],
      "text/plain": [
       "              VistID   Time_Spent          Age    Avg_Income  Internet_Usage  \\\n",
       "count   6.657000e+03  6657.000000  6657.000000   6657.000000     6657.000000   \n",
       "unique           NaN          NaN          NaN           NaN             NaN   \n",
       "top              NaN          NaN          NaN           NaN             NaN   \n",
       "freq             NaN          NaN          NaN           NaN             NaN   \n",
       "mean    5.542115e+06    66.849548    37.258825  55930.486743      184.947684   \n",
       "std     2.596284e+06    15.509672    10.995458  13110.339257       43.189896   \n",
       "min     1.000187e+06    32.600000    19.000000  13996.500000      104.780000   \n",
       "25%     3.307428e+06    55.200000    28.000000  48454.000000      145.730000   \n",
       "50%     5.523907e+06    70.660000    36.000000  58183.000000      193.580000   \n",
       "75%     7.823942e+06    79.570000    46.000000  65957.000000      222.260000   \n",
       "max     9.999708e+06    91.430000    61.000000  79484.800000      269.960000   \n",
       "\n",
       "          Ad_Topic Country_Name City_code  Male Time_Period Weekday    Month  \\\n",
       "count         6657         6657      6657  6657        6657    6657     6657   \n",
       "unique          30          237         9     2           6       7        7   \n",
       "top     product_22       Canada    City_1    No     Evening  Friday  January   \n",
       "freq           266           46      2559  3571        1266     986      988   \n",
       "mean           NaN          NaN       NaN   NaN         NaN     NaN      NaN   \n",
       "std            NaN          NaN       NaN   NaN         NaN     NaN      NaN   \n",
       "min            NaN          NaN       NaN   NaN         NaN     NaN      NaN   \n",
       "25%            NaN          NaN       NaN   NaN         NaN     NaN      NaN   \n",
       "50%            NaN          NaN       NaN   NaN         NaN     NaN      NaN   \n",
       "75%            NaN          NaN       NaN   NaN         NaN     NaN      NaN   \n",
       "max            NaN          NaN       NaN   NaN         NaN     NaN      NaN   \n",
       "\n",
       "          Year      Clicked  \n",
       "count   6657.0  6657.000000  \n",
       "unique     NaN          NaN  \n",
       "top        NaN          NaN  \n",
       "freq       NaN          NaN  \n",
       "mean    2020.0     0.456362  \n",
       "std        0.0     0.498129  \n",
       "min     2020.0     0.000000  \n",
       "25%     2020.0     0.000000  \n",
       "50%     2020.0     0.000000  \n",
       "75%     2020.0     1.000000  \n",
       "max     2020.0     1.000000  "
      ]
     },
     "execution_count": 8,
     "metadata": {},
     "output_type": "execute_result"
    }
   ],
   "source": [
    "AdClickData.describe(include='all')"
   ]
  },
  {
   "cell_type": "code",
   "execution_count": 9,
   "metadata": {},
   "outputs": [
    {
     "data": {
      "text/plain": [
       "VistID            6657\n",
       "Time_Spent         900\n",
       "Age                 43\n",
       "Avg_Income        1487\n",
       "Internet_Usage     966\n",
       "Ad_Topic            30\n",
       "Country_Name       237\n",
       "City_code            9\n",
       "Male                 2\n",
       "Time_Period          6\n",
       "Weekday              7\n",
       "Month                7\n",
       "Year                 1\n",
       "Clicked              2\n",
       "dtype: int64"
      ]
     },
     "execution_count": 9,
     "metadata": {},
     "output_type": "execute_result"
    }
   ],
   "source": [
    "AdClickData.nunique()"
   ]
  },
  {
   "cell_type": "code",
   "execution_count": 10,
   "metadata": {},
   "outputs": [
    {
     "data": {
      "text/plain": [
       "VistID            0\n",
       "Time_Spent        0\n",
       "Age               0\n",
       "Avg_Income        0\n",
       "Internet_Usage    0\n",
       "Ad_Topic          0\n",
       "Country_Name      0\n",
       "City_code         0\n",
       "Male              0\n",
       "Time_Period       0\n",
       "Weekday           0\n",
       "Month             0\n",
       "Year              0\n",
       "Clicked           0\n",
       "dtype: int64"
      ]
     },
     "execution_count": 10,
     "metadata": {},
     "output_type": "execute_result"
    }
   ],
   "source": [
    "AdClickData.isnull().sum()"
   ]
  },
  {
   "cell_type": "markdown",
   "metadata": {},
   "source": [
    "**Basic Data Exploration Results**\n",
    "\n",
    "Based on the basic data exploration, create a simple report summarizing the data and noting observations for each column.\n",
    "- **VistID:** Qualitative | Rejected | This column does not affect the ad click\n",
    "- **Time_Spent:** Continuous | Selected\n",
    "- **Age:** Continuous | Selected\n",
    "- **Area_Income:** Continuous | Selected\n",
    "- **Internet_Usage:** Continuous | Selected\n",
    "- **Ad_Topic:** Categorical | Selected\n",
    "- **Country_Name:** Qualitative | Rejected | This column has very high cardinality\n",
    "- **City_Code:** Categorical | Selected\n",
    "- **Male:** Categorical | Selected\n",
    "- **Time_Period:** Categorical | Selected\n",
    "- **Weekday:** Categorical | Selected\n",
    "- **Month:** Categorical | Selected\n",
    "- **Year:** Qualitative | Rejected | This column does not affect the ad click\n",
    "- **Clicked:** Categorical | Selected | This is the **Target Variable**\n",
    "\n",
    "The selected columns at this stage are not final, further analysis will be conducted before creating the final list."
   ]
  },
  {
   "cell_type": "code",
   "execution_count": null,
   "metadata": {},
   "outputs": [],
   "source": []
  },
  {
   "cell_type": "markdown",
   "metadata": {},
   "source": [
    "## Removing useless variables from data\n",
    "Based on the above report, the 'VisitID', 'Country_Name', and 'Year' columns are being removed from the data because they do not affect whether an advertisement is clicked or not."
   ]
  },
  {
   "cell_type": "code",
   "execution_count": 11,
   "metadata": {},
   "outputs": [
    {
     "data": {
      "text/html": [
       "<div>\n",
       "<style scoped>\n",
       "    .dataframe tbody tr th:only-of-type {\n",
       "        vertical-align: middle;\n",
       "    }\n",
       "\n",
       "    .dataframe tbody tr th {\n",
       "        vertical-align: top;\n",
       "    }\n",
       "\n",
       "    .dataframe thead th {\n",
       "        text-align: right;\n",
       "    }\n",
       "</style>\n",
       "<table border=\"1\" class=\"dataframe\">\n",
       "  <thead>\n",
       "    <tr style=\"text-align: right;\">\n",
       "      <th></th>\n",
       "      <th>Time_Spent</th>\n",
       "      <th>Age</th>\n",
       "      <th>Avg_Income</th>\n",
       "      <th>Internet_Usage</th>\n",
       "      <th>Ad_Topic</th>\n",
       "      <th>City_code</th>\n",
       "      <th>Male</th>\n",
       "      <th>Time_Period</th>\n",
       "      <th>Weekday</th>\n",
       "      <th>Month</th>\n",
       "      <th>Clicked</th>\n",
       "    </tr>\n",
       "  </thead>\n",
       "  <tbody>\n",
       "    <tr>\n",
       "      <th>0</th>\n",
       "      <td>87.97</td>\n",
       "      <td>43</td>\n",
       "      <td>55901.12</td>\n",
       "      <td>185.46</td>\n",
       "      <td>product_11</td>\n",
       "      <td>City_5</td>\n",
       "      <td>No</td>\n",
       "      <td>Mid-Night</td>\n",
       "      <td>Thursday</td>\n",
       "      <td>July</td>\n",
       "      <td>0</td>\n",
       "    </tr>\n",
       "    <tr>\n",
       "      <th>1</th>\n",
       "      <td>51.63</td>\n",
       "      <td>50</td>\n",
       "      <td>39132.00</td>\n",
       "      <td>176.73</td>\n",
       "      <td>product_8</td>\n",
       "      <td>City_1</td>\n",
       "      <td>No</td>\n",
       "      <td>Evening</td>\n",
       "      <td>Saturday</td>\n",
       "      <td>June</td>\n",
       "      <td>1</td>\n",
       "    </tr>\n",
       "    <tr>\n",
       "      <th>2</th>\n",
       "      <td>82.37</td>\n",
       "      <td>38</td>\n",
       "      <td>57032.36</td>\n",
       "      <td>210.60</td>\n",
       "      <td>product_6</td>\n",
       "      <td>City_2</td>\n",
       "      <td>No</td>\n",
       "      <td>Morning</td>\n",
       "      <td>Tuesday</td>\n",
       "      <td>January</td>\n",
       "      <td>0</td>\n",
       "    </tr>\n",
       "    <tr>\n",
       "      <th>3</th>\n",
       "      <td>62.06</td>\n",
       "      <td>45</td>\n",
       "      <td>48868.00</td>\n",
       "      <td>190.05</td>\n",
       "      <td>product_19</td>\n",
       "      <td>City_3</td>\n",
       "      <td>Yes</td>\n",
       "      <td>Morning</td>\n",
       "      <td>Thursday</td>\n",
       "      <td>April</td>\n",
       "      <td>1</td>\n",
       "    </tr>\n",
       "    <tr>\n",
       "      <th>4</th>\n",
       "      <td>77.66</td>\n",
       "      <td>31</td>\n",
       "      <td>61608.23</td>\n",
       "      <td>204.86</td>\n",
       "      <td>product_11</td>\n",
       "      <td>City_2</td>\n",
       "      <td>No</td>\n",
       "      <td>Noon</td>\n",
       "      <td>Thursday</td>\n",
       "      <td>January</td>\n",
       "      <td>0</td>\n",
       "    </tr>\n",
       "  </tbody>\n",
       "</table>\n",
       "</div>"
      ],
      "text/plain": [
       "   Time_Spent  Age  Avg_Income  Internet_Usage    Ad_Topic City_code Male  \\\n",
       "0       87.97   43    55901.12          185.46  product_11    City_5   No   \n",
       "1       51.63   50    39132.00          176.73   product_8    City_1   No   \n",
       "2       82.37   38    57032.36          210.60   product_6    City_2   No   \n",
       "3       62.06   45    48868.00          190.05  product_19    City_3  Yes   \n",
       "4       77.66   31    61608.23          204.86  product_11    City_2   No   \n",
       "\n",
       "  Time_Period   Weekday    Month  Clicked  \n",
       "0   Mid-Night  Thursday     July        0  \n",
       "1     Evening  Saturday     June        1  \n",
       "2     Morning   Tuesday  January        0  \n",
       "3     Morning  Thursday    April        1  \n",
       "4        Noon  Thursday  January        0  "
      ]
     },
     "execution_count": 11,
     "metadata": {},
     "output_type": "execute_result"
    }
   ],
   "source": [
    "uselessColumns=['VistID','Country_Name','Year']\n",
    "AdClickData=AdClickData.drop(uselessColumns, axis=1)\n",
    "AdClickData.head()"
   ]
  },
  {
   "cell_type": "code",
   "execution_count": null,
   "metadata": {},
   "outputs": [],
   "source": []
  },
  {
   "cell_type": "markdown",
   "metadata": {},
   "source": [
    "## Visual Exploratory Data Analysis\n",
    "- Categorical variables: Bar plot\n",
    "- Continuous variables: Histogram"
   ]
  },
  {
   "cell_type": "markdown",
   "metadata": {},
   "source": [
    "**Visualize distribution of all the Categorical Predictor variables in the data using bar plots**\n",
    "\n",
    "Based on the basic data exploration, the data contains six categorical predictors: \"Ad_Topic\", \"City_code\", \"Male\" ,\"Time_Period\", \"Weekday\", \"Month\"\n",
    "\n",
    "Bar charts are used to visualize the distribution of data for categorical predictors."
   ]
  },
  {
   "cell_type": "code",
   "execution_count": 12,
   "metadata": {},
   "outputs": [],
   "source": [
    "# Plotting multiple bar charts at once for categorical variables\n",
    "# Since no default function exists to plot bar charts for multiple columns at once, a custom function is being defined for this purpose\n",
    "def PlotBarCharts(inputdata, ColumnsToPlot):\n",
    "    %matplotlib inline\n",
    "\n",
    "    import matplotlib.pyplot as plt\n",
    "\n",
    "    # Generating multiple subplots\n",
    "    fig, subplot=plt.subplots(nrows=1, ncols=len(ColumnsToPlot), figsize=(40,6))\n",
    "    fig.suptitle('Bar Charts of:'+str(ColumnsToPlot))\n",
    "\n",
    "    for ColName, PlotNumber in zip(ColumnsToPlot, range(len(ColumnsToPlot))):\n",
    "        inputdata.groupby(ColName).size().plot(kind='bar',ax=subplot[PlotNumber])\n",
    "    "
   ]
  },
  {
   "cell_type": "code",
   "execution_count": 13,
   "metadata": {},
   "outputs": [
    {
     "data": {
      "image/png": "[encoded data removed]",
      "text/plain": [
       "<Figure size 4000x600 with 6 Axes>"
      ]
     },
     "metadata": {},
     "output_type": "display_data"
    }
   ],
   "source": [
    "# Calling the function\n",
    "CatgColms=['Ad_Topic','City_code','Male','Time_Period','Weekday','Month']\n",
    "PlotBarCharts(inputdata=AdClickData, ColumnsToPlot=CatgColms)"
   ]
  },
  {
   "cell_type": "markdown",
   "metadata": {},
   "source": [
    "**Bar Charts Interpretation**\n",
    "\n",
    "These bar charts show the frequencies of each category on the Y-axis and the category names on the X-axis.\n",
    "\n",
    "An ideal bar chart, like that of the \"Weekday\" and \"Month\" column, has comparable frequencies across categories, ensuring enough data for the ML algorithm to learn.\n",
    "\n",
    "However, if a column has a highly skewed distribution, where one category dominates while others have very few instances, it may not be very useful for machine learning. This is further evaluated in the correlation analysis section, where a final decision is made on whether to keep or remove the column.\n",
    "\n",
    "In this dataset, all categorical columns have a satisfactory distribution for machine learning."
   ]
  },
  {
   "cell_type": "code",
   "execution_count": null,
   "metadata": {},
   "outputs": [],
   "source": []
  },
  {
   "cell_type": "markdown",
   "metadata": {},
   "source": [
    "**Visualize distribution of all the Continuous Predictor variables in the data using histograms**\n",
    "\n",
    "Based on the basic data exploration, the data contains four continuous predictor: \"Time_Spent\", \"Age\", \"Avg_Income\" and \"Internet_Usage\"\n",
    "\n",
    "Histograms are used to visualize the distribution of continuous predictor."
   ]
  },
  {
   "cell_type": "code",
   "execution_count": 14,
   "metadata": {},
   "outputs": [
    {
     "data": {
      "text/plain": [
       "array([[<Axes: title={'center': 'Time_Spent'}>,\n",
       "        <Axes: title={'center': 'Age'}>],\n",
       "       [<Axes: title={'center': 'Avg_Income'}>,\n",
       "        <Axes: title={'center': 'Internet_Usage'}>]], dtype=object)"
      ]
     },
     "execution_count": 14,
     "metadata": {},
     "output_type": "execute_result"
    },
    {
     "data": {
      "image/png": "[encoded data removed]",
      "text/plain": [
       "<Figure size 1000x500 with 4 Axes>"
      ]
     },
     "metadata": {},
     "output_type": "display_data"
    }
   ],
   "source": [
    "# Plotting histograms of multiple continuous columns together\n",
    "AdClickData.hist(['Time_Spent','Age','Avg_Income','Internet_Usage'], figsize=(10,5))"
   ]
  },
  {
   "cell_type": "markdown",
   "metadata": {},
   "source": [
    "**Histogram Interpretation**\n",
    "\n",
    "Histograms show the data distribution for each continuous variable. The X-axis represents the range of values, while the Y-axis shows the frequency of values within that range. The ideal histogram outcome is a bell curve or a slightly skewed bell curve. If there is excessive skewness, outlier treatment should be applied, and the column should be re-examined. If the issue persists, the column may be considered for removal.\n",
    "\n",
    "**Selected Continuous Variables:**\n",
    "- **Time_Spent:** Selected\n",
    "- **Age:** Selected\n",
    "- **Avg_Income:** Selected | Slightly negative skewed distribution, acceptable.\n",
    "- **Internet_Usage:** Selected"
   ]
  },
  {
   "cell_type": "code",
   "execution_count": null,
   "metadata": {},
   "outputs": [],
   "source": []
  },
  {
   "cell_type": "markdown",
   "metadata": {},
   "source": [
    "## Outliers Treatment\n",
    "Outliers are extreme values that deviate significantly from most of the data. They can be identified by examining the tails of a histogram. Outliers can bias the training of machine learning models, as the algorithm may attempt to fit these extreme values, deviating from the majority of the data.\n",
    "\n",
    "Outliers should be treated one column at a time, as the appropriate treatment may vary for each column. Outlier values are imputed with a logical business value, determined through histogram analysis.\n",
    "\n",
    "- In this data, none of the predictors have outliers; hence, no treatment is required"
   ]
  },
  {
   "cell_type": "code",
   "execution_count": null,
   "metadata": {},
   "outputs": [],
   "source": []
  },
  {
   "cell_type": "markdown",
   "metadata": {},
   "source": [
    "## Missing values Treatments\n",
    "If a column has more than 30% data missing, then missing value treatment cannot be done. That column must be rejected because too much information is missing.\n",
    "Missing values are treated for each column separately."
   ]
  },
  {
   "cell_type": "code",
   "execution_count": 15,
   "metadata": {},
   "outputs": [
    {
     "data": {
      "text/plain": [
       "Time_Spent        0\n",
       "Age               0\n",
       "Avg_Income        0\n",
       "Internet_Usage    0\n",
       "Ad_Topic          0\n",
       "City_code         0\n",
       "Male              0\n",
       "Time_Period       0\n",
       "Weekday           0\n",
       "Month             0\n",
       "Clicked           0\n",
       "dtype: int64"
      ]
     },
     "execution_count": 15,
     "metadata": {},
     "output_type": "execute_result"
    }
   ],
   "source": [
    "# Finding how many missing values are there for each column\n",
    "AdClickData.isnull().sum()"
   ]
  },
  {
   "cell_type": "markdown",
   "metadata": {},
   "source": [
    "- In this dataset, none of the columns have missing values; hence, missing value treatment is not required."
   ]
  },
  {
   "cell_type": "code",
   "execution_count": null,
   "metadata": {},
   "outputs": [],
   "source": []
  },
  {
   "cell_type": "markdown",
   "metadata": {},
   "source": [
    "## Feature Selection\n",
    "Now, it is time to select the best features (columns) that are correlated with the target variable. This can be done by measuring correlation values or using statistical tests like ANOVA and Chi-Square. Additionally, visualizing the relationship between the target variable and predictors helps in understanding the data better. Below are the techniques used for both visualizing relationships and statistically measuring their strength.\n",
    "\n",
    "**Categorical Target Variable Vs Continuous Predictor**\n",
    "- Box Plot - Visual exploration\n",
    "- ANOVA test - Statistical measurement\n",
    "\n",
    "**Categorical Target Variable Vs Categorical Predictor**\n",
    "- Grouped Bar Plots - Visual exploration\n",
    "- Chi-Square test - Statistical measurement"
   ]
  },
  {
   "cell_type": "markdown",
   "metadata": {},
   "source": [
    "**Visual Relationship Exploration: Categorical Vs Continuous - Box Plots**"
   ]
  },
  {
   "cell_type": "code",
   "execution_count": 16,
   "metadata": {},
   "outputs": [
    {
     "data": {
      "image/png": "[encoded data removed]",
      "text/plain": [
       "<Figure size 2000x500 with 4 Axes>"
      ]
     },
     "metadata": {},
     "output_type": "display_data"
    }
   ],
   "source": [
    "# Box Plots for categorical Target variable 'Clicked' and Continuous predictors\n",
    "ContinuousPredictors=['Time_Spent','Age','Avg_Income','Internet_Usage']\n",
    "\n",
    "import matplotlib.pyplot as plt\n",
    "fig, subplot=plt.subplots(nrows=1, ncols=len(ContinuousPredictors), figsize=(20,5))\n",
    "\n",
    "# Creating box plots for each continuous predictor against the Target Variable \"Loan_Status\"\n",
    "for PredictorCol, plotNumber in zip(ContinuousPredictors, range(len(ContinuousPredictors))):\n",
    "    AdClickData.boxplot(column=PredictorCol, by='Clicked', figsize=(5,5), vert=True, ax=subplot[plotNumber])\n"
   ]
  },
  {
   "cell_type": "markdown",
   "metadata": {},
   "source": [
    "**Box-Plots interpretation**\n",
    "\n",
    "These plots show how a continuous predictor (Y-axis) is distributed across different categories (X-axis).\n",
    "\n",
    "If the distributions look similar across categories (boxes align), it means the continuous variable has no effect on the target variable, so they are not correlated.\n",
    "\n",
    "For example, consider the first chart, \"Time_Spent\" vs. \"Clicked\". The box plots are not aligned, indicating a difference in distribution. Observing the data, users who clicked on ads tend to have spent less time compared to those who didn’t. This suggests a potential pattern that can be learned using ML algorithms, making \"Time_Spent\" correlated with the target variable, \"Clicked\".\n",
    "\n",
    "The other three charts exhibit similar patterns, indicating that all four continuous predictors show a relationship with the target variable.\n",
    "\n",
    "This correlation is further validated by the ANOVA test results presented below."
   ]
  },
  {
   "cell_type": "code",
   "execution_count": null,
   "metadata": {},
   "outputs": [],
   "source": []
  },
  {
   "cell_type": "markdown",
   "metadata": {},
   "source": [
    "**Statistical Feature Selection (Categorical Vs Continuous) using ANOVA test**\n",
    "\n",
    "Analysis of variance(ANOVA) is performed to check if there is any relationship between the given continuous and categorical variable"
   ]
  },
  {
   "cell_type": "code",
   "execution_count": 17,
   "metadata": {},
   "outputs": [],
   "source": [
    "# Defining a function to find the statistical relationship with all the categorical variables\n",
    "def FunctionANOVA(inputData, TargetVariable, ContinuousPredictor):\n",
    "    from scipy.stats import f_oneway\n",
    "\n",
    "    # Creating an empty list of final selected predictors\n",
    "    SelectedColumns=[]\n",
    "\n",
    "    for predictor in ContinuousPredictors:\n",
    "        CategoryGroupList=inputData.groupby(TargetVariable)[predictor].apply(list)\n",
    "        ANOVAresult=f_oneway(*CategoryGroupList)\n",
    "\n",
    "        # If the ANOVA P-Value is <0.05, that means we reject H0\n",
    "        if ANOVAresult[1] < 0.05:\n",
    "            print(predictor, \"is correlated with\", TargetVariable, '| P-Value: ', ANOVAresult[1])\n",
    "            SelectedColumns.append(predictor)\n",
    "        else:\n",
    "            print(predictor, \"is NOT correlated with\", TargetVariable, '| P-Value: ', ANOVAresult[1])\n",
    "\n",
    "    return(SelectedColumns)\n"
   ]
  },
  {
   "cell_type": "code",
   "execution_count": 18,
   "metadata": {},
   "outputs": [
    {
     "name": "stdout",
     "output_type": "stream",
     "text": [
      "Time_Spent is correlated with Clicked | P-Value:  0.0\n",
      "Age is correlated with Clicked | P-Value:  6.40789044460054e-91\n",
      "Avg_Income is correlated with Clicked | P-Value:  0.0\n",
      "Internet_Usage is correlated with Clicked | P-Value:  0.0\n"
     ]
    },
    {
     "data": {
      "text/plain": [
       "['Time_Spent', 'Age', 'Avg_Income', 'Internet_Usage']"
      ]
     },
     "execution_count": 18,
     "metadata": {},
     "output_type": "execute_result"
    }
   ],
   "source": [
    "# Calling the function to check which categorical variables are correlated with target\n",
    "ContinuousPredictors=['Time_Spent','Age','Avg_Income','Internet_Usage']\n",
    "FunctionANOVA(inputData=AdClickData, TargetVariable='Clicked', ContinuousPredictor=ContinuousPredictors)"
   ]
  },
  {
   "cell_type": "markdown",
   "metadata": {},
   "source": [
    "* The ANOVA test results confirm our visual analysis from the box plots above, indicating that all four columns are correlated with the target variable, **\"Clicked\"**."
   ]
  },
  {
   "cell_type": "code",
   "execution_count": null,
   "metadata": {},
   "outputs": [],
   "source": []
  },
  {
   "cell_type": "markdown",
   "metadata": {},
   "source": [
    "<b>Visual Relationship exploration: Categorical Vs Categorical -- Grouped Bar Charts<b>"
   ]
  },
  {
   "cell_type": "code",
   "execution_count": 19,
   "metadata": {},
   "outputs": [
    {
     "data": {
      "image/png": "[encoded data removed]",
      "text/plain": [
       "<Figure size 1000x6000 with 6 Axes>"
      ]
     },
     "metadata": {},
     "output_type": "display_data"
    }
   ],
   "source": [
    "CategoricalColumns=['Ad_Topic','City_code','Male','Time_Period','Weekday','Month']\n",
    "\n",
    "import matplotlib.pyplot as plt\n",
    "fig, subplot=plt.subplots(nrows=len(CategoricalColumns), ncols=1, figsize=(10,60))\n",
    "\n",
    "# Creating Grouped bar plots for each categorical predictor against the Target Variable \"Loan_Status\"\n",
    "for CatgCols, PlotNum in zip(CategoricalColumns, range(len(CategoricalColumns))):\n",
    "    CrossTabResult=pd.crosstab(index=AdClickData[CatgCols], columns=AdClickData['Clicked'])\n",
    "    CrossTabResult.plot.bar(color=['red','blue'], ax=subplot[PlotNum])"
   ]
  },
  {
   "cell_type": "markdown",
   "metadata": {},
   "source": [
    "**Grouped Bar charts Interpretation**\n",
    "\n",
    "These grouped bar charts show frequency on the Y-axis and categories on the X-axis. If the bar ratios are similar across all categories, the two variables are not correlated.\n",
    "\n",
    "For example, in the Month vs. Clicked plot, the Clicked vs. Not-Clicked ratio remains similar across all months, indicating that Month does not influence Ad Clicks. Hence, these two variables are not correlated.\n",
    "\n",
    "On the other hand, the Time_Period vs. Clicked plot shows a higher number of clicks in the Early Morning, suggesting that Time_Period impacts Ad Clicks, making these two variables correlated.\n",
    "\n",
    "This analysis is further validated in the following section using Chi-Square Tests."
   ]
  },
  {
   "cell_type": "code",
   "execution_count": null,
   "metadata": {},
   "outputs": [],
   "source": []
  },
  {
   "cell_type": "markdown",
   "metadata": {},
   "source": [
    "**Statistical Feature Selection (Categorical Vs Categorical) using Chi-Square Test**\n",
    "\n",
    "Chi-Square test is conducted to check the correlation between two categorical variables"
   ]
  },
  {
   "cell_type": "code",
   "execution_count": 20,
   "metadata": {},
   "outputs": [],
   "source": [
    "# Writing a function to find the correlation of all categorical variables with the Target variable\n",
    "def FunctionChiSquare(inputdata, TargetVariable, CategoricalVariable):\n",
    "    from scipy.stats import chi2_contingency\n",
    "\n",
    "    # creating a empty list of final selected predictors\n",
    "    SelectedPredictors=[]\n",
    "\n",
    "    for predictor in CategoricalVariable:\n",
    "        CrossTabResult=pd.crosstab(index=inputdata[TargetVariable], columns=inputdata[predictor])\n",
    "        ChiSqrResult=chi2_contingency(CrossTabResult)\n",
    "\n",
    "        # If the ChiSq P-Value is <0.05, that means we reject H0\n",
    "        if ChiSqrResult[1]<0.05:\n",
    "            print(predictor, \"is correlated with\", TargetVariable, '| P-value:', ChiSqrResult[1])\n",
    "            SelectedPredictors.append(predictor)\n",
    "        else:\n",
    "            print(predictor, \"is NOT correlated with\", TargetVariable, '| P-value:', ChiSqrResult[1])\n",
    "    \n",
    "    return(SelectedPredictors)\n"
   ]
  },
  {
   "cell_type": "code",
   "execution_count": 21,
   "metadata": {},
   "outputs": [
    {
     "name": "stdout",
     "output_type": "stream",
     "text": [
      "Ad_Topic is correlated with Clicked | P-value: 1.2676573604736462e-24\n",
      "City_code is correlated with Clicked | P-value: 2.6667953391697526e-88\n",
      "Male is correlated with Clicked | P-value: 0.02695171301745074\n",
      "Time_Period is correlated with Clicked | P-value: 4.465745015735695e-47\n",
      "Weekday is NOT correlated with Clicked | P-value: 0.7226317326250824\n",
      "Month is NOT correlated with Clicked | P-value: 0.4229049097263303\n"
     ]
    },
    {
     "data": {
      "text/plain": [
       "['Ad_Topic', 'City_code', 'Male', 'Time_Period']"
      ]
     },
     "execution_count": 21,
     "metadata": {},
     "output_type": "execute_result"
    }
   ],
   "source": [
    "CategoricalColumns=['Ad_Topic','City_code','Male','Time_Period','Weekday','Month']\n",
    "\n",
    "# calling the function\n",
    "FunctionChiSquare(inputdata=AdClickData, TargetVariable='Clicked', CategoricalVariable=CategoricalColumns)"
   ]
  },
  {
   "cell_type": "markdown",
   "metadata": {},
   "source": [
    "- Based on the Chi-Square test results, the following categorical columns are selected as predictors for machine learning:  'Ad_Topic', 'City_code', 'Male', 'Time_Period'"
   ]
  },
  {
   "cell_type": "code",
   "execution_count": null,
   "metadata": {},
   "outputs": [],
   "source": []
  },
  {
   "cell_type": "markdown",
   "metadata": {},
   "source": [
    "## Selecting final predictors for Machine Learning"
   ]
  },
  {
   "cell_type": "code",
   "execution_count": 22,
   "metadata": {},
   "outputs": [
    {
     "data": {
      "text/html": [
       "<div>\n",
       "<style scoped>\n",
       "    .dataframe tbody tr th:only-of-type {\n",
       "        vertical-align: middle;\n",
       "    }\n",
       "\n",
       "    .dataframe tbody tr th {\n",
       "        vertical-align: top;\n",
       "    }\n",
       "\n",
       "    .dataframe thead th {\n",
       "        text-align: right;\n",
       "    }\n",
       "</style>\n",
       "<table border=\"1\" class=\"dataframe\">\n",
       "  <thead>\n",
       "    <tr style=\"text-align: right;\">\n",
       "      <th></th>\n",
       "      <th>Time_Spent</th>\n",
       "      <th>Age</th>\n",
       "      <th>Avg_Income</th>\n",
       "      <th>Internet_Usage</th>\n",
       "      <th>Ad_Topic</th>\n",
       "      <th>City_code</th>\n",
       "      <th>Male</th>\n",
       "      <th>Time_Period</th>\n",
       "    </tr>\n",
       "  </thead>\n",
       "  <tbody>\n",
       "    <tr>\n",
       "      <th>0</th>\n",
       "      <td>87.97</td>\n",
       "      <td>43</td>\n",
       "      <td>55901.12</td>\n",
       "      <td>185.46</td>\n",
       "      <td>product_11</td>\n",
       "      <td>City_5</td>\n",
       "      <td>No</td>\n",
       "      <td>Mid-Night</td>\n",
       "    </tr>\n",
       "    <tr>\n",
       "      <th>1</th>\n",
       "      <td>51.63</td>\n",
       "      <td>50</td>\n",
       "      <td>39132.00</td>\n",
       "      <td>176.73</td>\n",
       "      <td>product_8</td>\n",
       "      <td>City_1</td>\n",
       "      <td>No</td>\n",
       "      <td>Evening</td>\n",
       "    </tr>\n",
       "    <tr>\n",
       "      <th>2</th>\n",
       "      <td>82.37</td>\n",
       "      <td>38</td>\n",
       "      <td>57032.36</td>\n",
       "      <td>210.60</td>\n",
       "      <td>product_6</td>\n",
       "      <td>City_2</td>\n",
       "      <td>No</td>\n",
       "      <td>Morning</td>\n",
       "    </tr>\n",
       "    <tr>\n",
       "      <th>3</th>\n",
       "      <td>62.06</td>\n",
       "      <td>45</td>\n",
       "      <td>48868.00</td>\n",
       "      <td>190.05</td>\n",
       "      <td>product_19</td>\n",
       "      <td>City_3</td>\n",
       "      <td>Yes</td>\n",
       "      <td>Morning</td>\n",
       "    </tr>\n",
       "    <tr>\n",
       "      <th>4</th>\n",
       "      <td>77.66</td>\n",
       "      <td>31</td>\n",
       "      <td>61608.23</td>\n",
       "      <td>204.86</td>\n",
       "      <td>product_11</td>\n",
       "      <td>City_2</td>\n",
       "      <td>No</td>\n",
       "      <td>Noon</td>\n",
       "    </tr>\n",
       "  </tbody>\n",
       "</table>\n",
       "</div>"
      ],
      "text/plain": [
       "   Time_Spent  Age  Avg_Income  Internet_Usage    Ad_Topic City_code Male  \\\n",
       "0       87.97   43    55901.12          185.46  product_11    City_5   No   \n",
       "1       51.63   50    39132.00          176.73   product_8    City_1   No   \n",
       "2       82.37   38    57032.36          210.60   product_6    City_2   No   \n",
       "3       62.06   45    48868.00          190.05  product_19    City_3  Yes   \n",
       "4       77.66   31    61608.23          204.86  product_11    City_2   No   \n",
       "\n",
       "  Time_Period  \n",
       "0   Mid-Night  \n",
       "1     Evening  \n",
       "2     Morning  \n",
       "3     Morning  \n",
       "4        Noon  "
      ]
     },
     "execution_count": 22,
     "metadata": {},
     "output_type": "execute_result"
    }
   ],
   "source": [
    "# Based on the above tests, selecting the final columns for machine learning\n",
    "SelectedColumns=[\"Time_Spent\", \"Age\", \"Avg_Income\", \"Internet_Usage\",\n",
    "                \"Ad_Topic\", \"City_code\", \"Male\", \"Time_Period\"]\n",
    "\n",
    "# Selecting final columns for ML\n",
    "DataForML=AdClickData[SelectedColumns]\n",
    "DataForML.head()"
   ]
  },
  {
   "cell_type": "code",
   "execution_count": 23,
   "metadata": {},
   "outputs": [],
   "source": [
    "# Saving this final data for reference during deployment\n",
    "DataForML.to_pickle('DataForML.pkl')"
   ]
  },
  {
   "cell_type": "code",
   "execution_count": null,
   "metadata": {},
   "outputs": [],
   "source": []
  },
  {
   "cell_type": "markdown",
   "metadata": {},
   "source": [
    "## Data Pre-processing for Machine Learning"
   ]
  },
  {
   "cell_type": "markdown",
   "metadata": {},
   "source": [
    "**Converting the binary nominal variable to numeric using 1/0 mapping**"
   ]
  },
  {
   "cell_type": "code",
   "execution_count": 24,
   "metadata": {},
   "outputs": [
    {
     "data": {
      "text/html": [
       "<div>\n",
       "<style scoped>\n",
       "    .dataframe tbody tr th:only-of-type {\n",
       "        vertical-align: middle;\n",
       "    }\n",
       "\n",
       "    .dataframe tbody tr th {\n",
       "        vertical-align: top;\n",
       "    }\n",
       "\n",
       "    .dataframe thead th {\n",
       "        text-align: right;\n",
       "    }\n",
       "</style>\n",
       "<table border=\"1\" class=\"dataframe\">\n",
       "  <thead>\n",
       "    <tr style=\"text-align: right;\">\n",
       "      <th></th>\n",
       "      <th>Time_Spent</th>\n",
       "      <th>Age</th>\n",
       "      <th>Avg_Income</th>\n",
       "      <th>Internet_Usage</th>\n",
       "      <th>Ad_Topic</th>\n",
       "      <th>City_code</th>\n",
       "      <th>Male</th>\n",
       "      <th>Time_Period</th>\n",
       "    </tr>\n",
       "  </thead>\n",
       "  <tbody>\n",
       "    <tr>\n",
       "      <th>0</th>\n",
       "      <td>87.97</td>\n",
       "      <td>43</td>\n",
       "      <td>55901.12</td>\n",
       "      <td>185.46</td>\n",
       "      <td>product_11</td>\n",
       "      <td>City_5</td>\n",
       "      <td>0</td>\n",
       "      <td>Mid-Night</td>\n",
       "    </tr>\n",
       "    <tr>\n",
       "      <th>1</th>\n",
       "      <td>51.63</td>\n",
       "      <td>50</td>\n",
       "      <td>39132.00</td>\n",
       "      <td>176.73</td>\n",
       "      <td>product_8</td>\n",
       "      <td>City_1</td>\n",
       "      <td>0</td>\n",
       "      <td>Evening</td>\n",
       "    </tr>\n",
       "    <tr>\n",
       "      <th>2</th>\n",
       "      <td>82.37</td>\n",
       "      <td>38</td>\n",
       "      <td>57032.36</td>\n",
       "      <td>210.60</td>\n",
       "      <td>product_6</td>\n",
       "      <td>City_2</td>\n",
       "      <td>0</td>\n",
       "      <td>Morning</td>\n",
       "    </tr>\n",
       "    <tr>\n",
       "      <th>3</th>\n",
       "      <td>62.06</td>\n",
       "      <td>45</td>\n",
       "      <td>48868.00</td>\n",
       "      <td>190.05</td>\n",
       "      <td>product_19</td>\n",
       "      <td>City_3</td>\n",
       "      <td>1</td>\n",
       "      <td>Morning</td>\n",
       "    </tr>\n",
       "    <tr>\n",
       "      <th>4</th>\n",
       "      <td>77.66</td>\n",
       "      <td>31</td>\n",
       "      <td>61608.23</td>\n",
       "      <td>204.86</td>\n",
       "      <td>product_11</td>\n",
       "      <td>City_2</td>\n",
       "      <td>0</td>\n",
       "      <td>Noon</td>\n",
       "    </tr>\n",
       "  </tbody>\n",
       "</table>\n",
       "</div>"
      ],
      "text/plain": [
       "   Time_Spent  Age  Avg_Income  Internet_Usage    Ad_Topic City_code  Male  \\\n",
       "0       87.97   43    55901.12          185.46  product_11    City_5     0   \n",
       "1       51.63   50    39132.00          176.73   product_8    City_1     0   \n",
       "2       82.37   38    57032.36          210.60   product_6    City_2     0   \n",
       "3       62.06   45    48868.00          190.05  product_19    City_3     1   \n",
       "4       77.66   31    61608.23          204.86  product_11    City_2     0   \n",
       "\n",
       "  Time_Period  \n",
       "0   Mid-Night  \n",
       "1     Evening  \n",
       "2     Morning  \n",
       "3     Morning  \n",
       "4        Noon  "
      ]
     },
     "execution_count": 24,
     "metadata": {},
     "output_type": "execute_result"
    }
   ],
   "source": [
    "# Converting the binary nominal variable to numeric using 1/0 mapping\n",
    "DataForML['Male'].replace({'Yes':1,'No':0}, inplace=True)\n",
    "\n",
    "# Looking at data after nominal treatment\n",
    "DataForML.head()"
   ]
  },
  {
   "cell_type": "markdown",
   "metadata": {},
   "source": [
    "<b>Converting the nominal variable to numeric using get_dummies()<b>"
   ]
  },
  {
   "cell_type": "code",
   "execution_count": 25,
   "metadata": {},
   "outputs": [],
   "source": [
    "# Treating all the nominal variables at once using dummy variables\n",
    "DataForML_Numeric=pd.get_dummies(DataForML)"
   ]
  },
  {
   "cell_type": "code",
   "execution_count": 26,
   "metadata": {},
   "outputs": [
    {
     "data": {
      "text/html": [
       "<div>\n",
       "<style scoped>\n",
       "    .dataframe tbody tr th:only-of-type {\n",
       "        vertical-align: middle;\n",
       "    }\n",
       "\n",
       "    .dataframe tbody tr th {\n",
       "        vertical-align: top;\n",
       "    }\n",
       "\n",
       "    .dataframe thead th {\n",
       "        text-align: right;\n",
       "    }\n",
       "</style>\n",
       "<table border=\"1\" class=\"dataframe\">\n",
       "  <thead>\n",
       "    <tr style=\"text-align: right;\">\n",
       "      <th></th>\n",
       "      <th>Time_Spent</th>\n",
       "      <th>Age</th>\n",
       "      <th>Avg_Income</th>\n",
       "      <th>Internet_Usage</th>\n",
       "      <th>Male</th>\n",
       "      <th>Ad_Topic_product_1</th>\n",
       "      <th>Ad_Topic_product_10</th>\n",
       "      <th>Ad_Topic_product_11</th>\n",
       "      <th>Ad_Topic_product_12</th>\n",
       "      <th>Ad_Topic_product_13</th>\n",
       "      <th>...</th>\n",
       "      <th>City_code_City_7</th>\n",
       "      <th>City_code_City_8</th>\n",
       "      <th>City_code_City_9</th>\n",
       "      <th>Time_Period_Early-Morning</th>\n",
       "      <th>Time_Period_Evening</th>\n",
       "      <th>Time_Period_Mid-Night</th>\n",
       "      <th>Time_Period_Morning</th>\n",
       "      <th>Time_Period_Night</th>\n",
       "      <th>Time_Period_Noon</th>\n",
       "      <th>Clicked</th>\n",
       "    </tr>\n",
       "  </thead>\n",
       "  <tbody>\n",
       "    <tr>\n",
       "      <th>0</th>\n",
       "      <td>87.97</td>\n",
       "      <td>43</td>\n",
       "      <td>55901.12</td>\n",
       "      <td>185.46</td>\n",
       "      <td>0</td>\n",
       "      <td>False</td>\n",
       "      <td>False</td>\n",
       "      <td>True</td>\n",
       "      <td>False</td>\n",
       "      <td>False</td>\n",
       "      <td>...</td>\n",
       "      <td>False</td>\n",
       "      <td>False</td>\n",
       "      <td>False</td>\n",
       "      <td>False</td>\n",
       "      <td>False</td>\n",
       "      <td>True</td>\n",
       "      <td>False</td>\n",
       "      <td>False</td>\n",
       "      <td>False</td>\n",
       "      <td>0</td>\n",
       "    </tr>\n",
       "    <tr>\n",
       "      <th>1</th>\n",
       "      <td>51.63</td>\n",
       "      <td>50</td>\n",
       "      <td>39132.00</td>\n",
       "      <td>176.73</td>\n",
       "      <td>0</td>\n",
       "      <td>False</td>\n",
       "      <td>False</td>\n",
       "      <td>False</td>\n",
       "      <td>False</td>\n",
       "      <td>False</td>\n",
       "      <td>...</td>\n",
       "      <td>False</td>\n",
       "      <td>False</td>\n",
       "      <td>False</td>\n",
       "      <td>False</td>\n",
       "      <td>True</td>\n",
       "      <td>False</td>\n",
       "      <td>False</td>\n",
       "      <td>False</td>\n",
       "      <td>False</td>\n",
       "      <td>1</td>\n",
       "    </tr>\n",
       "    <tr>\n",
       "      <th>2</th>\n",
       "      <td>82.37</td>\n",
       "      <td>38</td>\n",
       "      <td>57032.36</td>\n",
       "      <td>210.60</td>\n",
       "      <td>0</td>\n",
       "      <td>False</td>\n",
       "      <td>False</td>\n",
       "      <td>False</td>\n",
       "      <td>False</td>\n",
       "      <td>False</td>\n",
       "      <td>...</td>\n",
       "      <td>False</td>\n",
       "      <td>False</td>\n",
       "      <td>False</td>\n",
       "      <td>False</td>\n",
       "      <td>False</td>\n",
       "      <td>False</td>\n",
       "      <td>True</td>\n",
       "      <td>False</td>\n",
       "      <td>False</td>\n",
       "      <td>0</td>\n",
       "    </tr>\n",
       "    <tr>\n",
       "      <th>3</th>\n",
       "      <td>62.06</td>\n",
       "      <td>45</td>\n",
       "      <td>48868.00</td>\n",
       "      <td>190.05</td>\n",
       "      <td>1</td>\n",
       "      <td>False</td>\n",
       "      <td>False</td>\n",
       "      <td>False</td>\n",
       "      <td>False</td>\n",
       "      <td>False</td>\n",
       "      <td>...</td>\n",
       "      <td>False</td>\n",
       "      <td>False</td>\n",
       "      <td>False</td>\n",
       "      <td>False</td>\n",
       "      <td>False</td>\n",
       "      <td>False</td>\n",
       "      <td>True</td>\n",
       "      <td>False</td>\n",
       "      <td>False</td>\n",
       "      <td>1</td>\n",
       "    </tr>\n",
       "    <tr>\n",
       "      <th>4</th>\n",
       "      <td>77.66</td>\n",
       "      <td>31</td>\n",
       "      <td>61608.23</td>\n",
       "      <td>204.86</td>\n",
       "      <td>0</td>\n",
       "      <td>False</td>\n",
       "      <td>False</td>\n",
       "      <td>True</td>\n",
       "      <td>False</td>\n",
       "      <td>False</td>\n",
       "      <td>...</td>\n",
       "      <td>False</td>\n",
       "      <td>False</td>\n",
       "      <td>False</td>\n",
       "      <td>False</td>\n",
       "      <td>False</td>\n",
       "      <td>False</td>\n",
       "      <td>False</td>\n",
       "      <td>False</td>\n",
       "      <td>True</td>\n",
       "      <td>0</td>\n",
       "    </tr>\n",
       "  </tbody>\n",
       "</table>\n",
       "<p>5 rows × 51 columns</p>\n",
       "</div>"
      ],
      "text/plain": [
       "   Time_Spent  Age  Avg_Income  Internet_Usage  Male  Ad_Topic_product_1  \\\n",
       "0       87.97   43    55901.12          185.46     0               False   \n",
       "1       51.63   50    39132.00          176.73     0               False   \n",
       "2       82.37   38    57032.36          210.60     0               False   \n",
       "3       62.06   45    48868.00          190.05     1               False   \n",
       "4       77.66   31    61608.23          204.86     0               False   \n",
       "\n",
       "   Ad_Topic_product_10  Ad_Topic_product_11  Ad_Topic_product_12  \\\n",
       "0                False                 True                False   \n",
       "1                False                False                False   \n",
       "2                False                False                False   \n",
       "3                False                False                False   \n",
       "4                False                 True                False   \n",
       "\n",
       "   Ad_Topic_product_13  ...  City_code_City_7  City_code_City_8  \\\n",
       "0                False  ...             False             False   \n",
       "1                False  ...             False             False   \n",
       "2                False  ...             False             False   \n",
       "3                False  ...             False             False   \n",
       "4                False  ...             False             False   \n",
       "\n",
       "   City_code_City_9  Time_Period_Early-Morning  Time_Period_Evening  \\\n",
       "0             False                      False                False   \n",
       "1             False                      False                 True   \n",
       "2             False                      False                False   \n",
       "3             False                      False                False   \n",
       "4             False                      False                False   \n",
       "\n",
       "   Time_Period_Mid-Night  Time_Period_Morning  Time_Period_Night  \\\n",
       "0                   True                False              False   \n",
       "1                  False                False              False   \n",
       "2                  False                 True              False   \n",
       "3                  False                 True              False   \n",
       "4                  False                False              False   \n",
       "\n",
       "   Time_Period_Noon  Clicked  \n",
       "0             False        0  \n",
       "1             False        1  \n",
       "2             False        0  \n",
       "3             False        1  \n",
       "4              True        0  \n",
       "\n",
       "[5 rows x 51 columns]"
      ]
     },
     "execution_count": 26,
     "metadata": {},
     "output_type": "execute_result"
    }
   ],
   "source": [
    "# Adding Target Variable to the data\n",
    "DataForML_Numeric['Clicked']=AdClickData['Clicked']\n",
    "\n",
    "# Printing sample rows\n",
    "DataForML_Numeric.head()"
   ]
  },
  {
   "cell_type": "code",
   "execution_count": null,
   "metadata": {},
   "outputs": [],
   "source": []
  },
  {
   "cell_type": "markdown",
   "metadata": {},
   "source": [
    "## Machine Learning: Splitting the data into Training and Testing sample\n",
    "The entire dataset is not used for model creation. A portion of the data is randomly set aside to evaluate the model's performance, known as testing data, while the remaining data, called training data, is used to build the model. Typically, 70% of the data is allocated for training, and 30% is used for testing."
   ]
  },
  {
   "cell_type": "code",
   "execution_count": 27,
   "metadata": {},
   "outputs": [
    {
     "data": {
      "text/plain": [
       "Index(['Time_Spent', 'Age', 'Avg_Income', 'Internet_Usage', 'Male',\n",
       "       'Ad_Topic_product_1', 'Ad_Topic_product_10', 'Ad_Topic_product_11',\n",
       "       'Ad_Topic_product_12', 'Ad_Topic_product_13', 'Ad_Topic_product_14',\n",
       "       'Ad_Topic_product_15', 'Ad_Topic_product_16', 'Ad_Topic_product_17',\n",
       "       'Ad_Topic_product_18', 'Ad_Topic_product_19', 'Ad_Topic_product_2',\n",
       "       'Ad_Topic_product_20', 'Ad_Topic_product_21', 'Ad_Topic_product_22',\n",
       "       'Ad_Topic_product_23', 'Ad_Topic_product_24', 'Ad_Topic_product_25',\n",
       "       'Ad_Topic_product_26', 'Ad_Topic_product_27', 'Ad_Topic_product_28',\n",
       "       'Ad_Topic_product_29', 'Ad_Topic_product_3', 'Ad_Topic_product_30',\n",
       "       'Ad_Topic_product_4', 'Ad_Topic_product_5', 'Ad_Topic_product_6',\n",
       "       'Ad_Topic_product_7', 'Ad_Topic_product_8', 'Ad_Topic_product_9',\n",
       "       'City_code_City_1', 'City_code_City_2', 'City_code_City_3',\n",
       "       'City_code_City_4', 'City_code_City_5', 'City_code_City_6',\n",
       "       'City_code_City_7', 'City_code_City_8', 'City_code_City_9',\n",
       "       'Time_Period_Early-Morning', 'Time_Period_Evening',\n",
       "       'Time_Period_Mid-Night', 'Time_Period_Morning', 'Time_Period_Night',\n",
       "       'Time_Period_Noon', 'Clicked'],\n",
       "      dtype='object')"
      ]
     },
     "execution_count": 27,
     "metadata": {},
     "output_type": "execute_result"
    }
   ],
   "source": [
    "# Printing all the column names for our reference\n",
    "DataForML_Numeric.columns"
   ]
  },
  {
   "cell_type": "markdown",
   "metadata": {},
   "source": [
    "**Separate Target Variable and Predictor Variables**"
   ]
  },
  {
   "cell_type": "code",
   "execution_count": 28,
   "metadata": {},
   "outputs": [],
   "source": [
    "# Separate Target Variable and Predictor Variables\n",
    "TargetVariable='Clicked'\n",
    "Predictors=['Time_Spent', 'Age', 'Avg_Income', 'Internet_Usage', 'Male',\n",
    "       'Ad_Topic_product_1', 'Ad_Topic_product_10', 'Ad_Topic_product_11',\n",
    "       'Ad_Topic_product_12', 'Ad_Topic_product_13', 'Ad_Topic_product_14',\n",
    "       'Ad_Topic_product_15', 'Ad_Topic_product_16', 'Ad_Topic_product_17',\n",
    "       'Ad_Topic_product_18', 'Ad_Topic_product_19', 'Ad_Topic_product_2',\n",
    "       'Ad_Topic_product_20', 'Ad_Topic_product_21', 'Ad_Topic_product_22',\n",
    "       'Ad_Topic_product_23', 'Ad_Topic_product_24', 'Ad_Topic_product_25',\n",
    "       'Ad_Topic_product_26', 'Ad_Topic_product_27', 'Ad_Topic_product_28',\n",
    "       'Ad_Topic_product_29', 'Ad_Topic_product_3', 'Ad_Topic_product_30',\n",
    "       'Ad_Topic_product_4', 'Ad_Topic_product_5', 'Ad_Topic_product_6',\n",
    "       'Ad_Topic_product_7', 'Ad_Topic_product_8', 'Ad_Topic_product_9',\n",
    "       'City_code_City_1', 'City_code_City_2', 'City_code_City_3',\n",
    "       'City_code_City_4', 'City_code_City_5', 'City_code_City_6',\n",
    "       'City_code_City_7', 'City_code_City_8', 'City_code_City_9',\n",
    "       'Time_Period_Early-Morning', 'Time_Period_Evening',\n",
    "       'Time_Period_Mid-Night', 'Time_Period_Morning', 'Time_Period_Night',\n",
    "       'Time_Period_Noon']\n",
    "\n",
    "X=DataForML_Numeric[Predictors].values\n",
    "y=DataForML_Numeric[TargetVariable].values"
   ]
  },
  {
   "cell_type": "markdown",
   "metadata": {},
   "source": [
    "<b>Standardization/Normalization of data<b>"
   ]
  },
  {
   "cell_type": "code",
   "execution_count": 29,
   "metadata": {},
   "outputs": [],
   "source": [
    "# Standarization of Data\n",
    "from sklearn.preprocessing import StandardScaler, MinMaxScaler\n",
    "# Choose either standardization or Normalization\n",
    "# On this data Min Max Normalization produced better results\n",
    "\n",
    "# Choose between standardization and MinMAx normalization\n",
    "# PredictorScaler=StandardScaler()\n",
    "PredictorScaler=MinMaxScaler()\n",
    "\n",
    "# Storing the fit object for later reference\n",
    "PredictorScalerFit=PredictorScaler.fit(X)\n",
    "\n",
    "# Generating the standardized values of X\n",
    "X=PredictorScalerFit.transform(X)"
   ]
  },
  {
   "cell_type": "markdown",
   "metadata": {},
   "source": [
    "**Splitting the data into Training and Testing sample**"
   ]
  },
  {
   "cell_type": "code",
   "execution_count": 30,
   "metadata": {},
   "outputs": [],
   "source": [
    "# Split the data into Training and Testing Set\n",
    "from sklearn.model_selection import train_test_split\n",
    "X_train, X_test, y_train, y_test = train_test_split(X, y, test_size=0.3, random_state=420)"
   ]
  },
  {
   "cell_type": "code",
   "execution_count": 31,
   "metadata": {},
   "outputs": [
    {
     "name": "stdout",
     "output_type": "stream",
     "text": [
      "(4659, 50)\n",
      "(4659,)\n",
      "(1998, 50)\n",
      "(1998,)\n"
     ]
    }
   ],
   "source": [
    "# Sanity check for the sampled data\n",
    "print(X_train.shape)\n",
    "print(y_train.shape)\n",
    "print(X_test.shape)\n",
    "print(y_test.shape)"
   ]
  },
  {
   "cell_type": "code",
   "execution_count": null,
   "metadata": {},
   "outputs": [],
   "source": []
  },
  {
   "cell_type": "markdown",
   "metadata": {},
   "source": [
    "## Logistic Regression"
   ]
  },
  {
   "cell_type": "code",
   "execution_count": 32,
   "metadata": {},
   "outputs": [
    {
     "name": "stdout",
     "output_type": "stream",
     "text": [
      "              precision    recall  f1-score   support\n",
      "\n",
      "           0       0.92      0.95      0.93      1090\n",
      "           1       0.94      0.89      0.92       908\n",
      "\n",
      "    accuracy                           0.93      1998\n",
      "   macro avg       0.93      0.92      0.93      1998\n",
      "weighted avg       0.93      0.93      0.93      1998\n",
      "\n",
      "[[1040   50]\n",
      " [  96  812]]\n",
      "Accuracy of the model on Testing Sample Data: 0.93\n",
      "\n",
      "Accuracy values for 10-fold cross validation:\n",
      " [0.93693694 0.88773764 0.92472202 0.93975226 0.92611277 0.94273948\n",
      " 0.94273948 0.94280626 0.93519986 0.93517856]\n",
      "\n",
      "Final Average Accuracy of the model: 0.93\n"
     ]
    }
   ],
   "source": [
    "# Logistic Regression\n",
    "from sklearn.linear_model import LogisticRegression\n",
    "\n",
    "# choose from different tunable hyper parameters\n",
    "clf=LogisticRegression(C=1, penalty='l2', solver='newton-cg')\n",
    "\n",
    "# Creating the model on Training data\n",
    "LOG=clf.fit(X_train, y_train)\n",
    "\n",
    "# Creating prediction on test data\n",
    "prediction=LOG.predict(X_test)\n",
    "\n",
    "# Measuring accuracy on testing data\n",
    "from sklearn import metrics\n",
    "print(metrics.classification_report(y_test, prediction))\n",
    "print(metrics.confusion_matrix(y_test,prediction))\n",
    "\n",
    "# Printing the overall acuracy of the model\n",
    "F1_Score=metrics.f1_score(y_test, prediction, average='weighted')\n",
    "print('Accuracy of the model on Testing Sample Data:', round(F1_Score,2))\n",
    "\n",
    "# Importing cross validation function from sklearn\n",
    "from sklearn.model_selection import cross_val_score\n",
    "\n",
    "# Running 10-Fold Cross validation on a given algorithm\n",
    "# Passing full data X and y because the K-fold will split the data and automatically choose train/test\n",
    "Accuracy_Values=cross_val_score(LOG,X,y, cv=10, scoring='f1_weighted')\n",
    "print('\\nAccuracy values for 10-fold cross validation:\\n', Accuracy_Values)\n",
    "print('\\nFinal Average Accuracy of the model:',round(Accuracy_Values.mean(),2))"
   ]
  },
  {
   "cell_type": "code",
   "execution_count": null,
   "metadata": {},
   "outputs": [],
   "source": []
  },
  {
   "cell_type": "markdown",
   "metadata": {},
   "source": [
    "# Decision Tree"
   ]
  },
  {
   "cell_type": "code",
   "execution_count": 33,
   "metadata": {},
   "outputs": [
    {
     "name": "stdout",
     "output_type": "stream",
     "text": [
      "              precision    recall  f1-score   support\n",
      "\n",
      "           0       0.90      0.96      0.93      1090\n",
      "           1       0.95      0.88      0.91       908\n",
      "\n",
      "    accuracy                           0.92      1998\n",
      "   macro avg       0.92      0.92      0.92      1998\n",
      "weighted avg       0.92      0.92      0.92      1998\n",
      "\n",
      "[[1044   46]\n",
      " [ 112  796]]\n",
      "Accuracy of the model on testing Sample Data:  0.92\n",
      "\n",
      "Accuracy values for 10-fold Cross Validation:\n",
      " [0.92022157 0.88081772 0.87852085 0.92454929 0.91859248 0.90248142\n",
      " 0.89802557 0.93671902 0.92588299 0.90685001]\n",
      "\n",
      "Accuracy values for 10-fold Cross Validation:\n",
      " 0.91\n"
     ]
    },
    {
     "data": {
      "text/plain": [
       "<Axes: >"
      ]
     },
     "execution_count": 33,
     "metadata": {},
     "output_type": "execute_result"
    },
    {
     "data": {
      "image/png": "[encoded data removed]",
      "text/plain": [
       "<Figure size 640x480 with 1 Axes>"
      ]
     },
     "metadata": {},
     "output_type": "display_data"
    }
   ],
   "source": [
    "# Decision Tree\n",
    "from sklearn.tree import DecisionTreeClassifier\n",
    "\n",
    "# choose from different tunable hyper parameters\n",
    "clf=DecisionTreeClassifier(max_depth=2, criterion='entropy')\n",
    "\n",
    "# Creating the model on traing data\n",
    "DTree=clf.fit(X_train, y_train)\n",
    "\n",
    "# Creating prediction on Test data\n",
    "prediction=DTree.predict(X_test)\n",
    "\n",
    "# Measuring accuracy on Testing data\n",
    "from sklearn import metrics\n",
    "print(metrics.classification_report(y_test, prediction))\n",
    "print(metrics.confusion_matrix(y_test, prediction))\n",
    "\n",
    "# Print overall accuracy of the model\n",
    "F1_Score=metrics.f1_score(y_test, prediction, average='weighted')\n",
    "print('Accuracy of the model on testing Sample Data: ', round(F1_Score,2))\n",
    "\n",
    "# Importing cross validation function from sklearn\n",
    "from sklearn.model_selection import cross_val_score\n",
    "\n",
    "# Running 10-Fold Cross validation on a given algorithm\n",
    "# Passing full data X and y because the K-fold will split the data and automatically choose train/test\n",
    "Accuracy_Values=cross_val_score(DTree, X, y, cv=10, scoring='f1_weighted')\n",
    "print('\\nAccuracy values for 10-fold Cross Validation:\\n', Accuracy_Values)\n",
    "print('\\nAccuracy values for 10-fold Cross Validation:\\n', round(Accuracy_Values.mean(),2))\n",
    "\n",
    "# Ploting the feature importance for top 10 most important columns\n",
    "%matplotlib inline\n",
    "feature_importances=pd.Series(DTree.feature_importances_, index=Predictors)\n",
    "feature_importances.nlargest(10).plot(kind='barh')"
   ]
  },
  {
   "cell_type": "code",
   "execution_count": null,
   "metadata": {},
   "outputs": [],
   "source": []
  },
  {
   "cell_type": "markdown",
   "metadata": {},
   "source": [
    "## Random Forest"
   ]
  },
  {
   "cell_type": "code",
   "execution_count": 34,
   "metadata": {},
   "outputs": [
    {
     "name": "stdout",
     "output_type": "stream",
     "text": [
      "              precision    recall  f1-score   support\n",
      "\n",
      "           0       0.89      0.98      0.93      1090\n",
      "           1       0.97      0.86      0.91       908\n",
      "\n",
      "    accuracy                           0.92      1998\n",
      "   macro avg       0.93      0.92      0.92      1998\n",
      "weighted avg       0.93      0.92      0.92      1998\n",
      "\n",
      "[[1065   25]\n",
      " [ 127  781]]\n",
      "Accuracy of the model on testing sample data:  0.92\n",
      "\n",
      "Accuracy value for 10-fold cross validation:\n",
      " [0.92293844 0.87736034 0.91052359 0.93502653 0.90761031 0.93487284\n",
      " 0.90618224 0.93353183 0.91174208 0.91647042]\n",
      "\n",
      "Final Average accuracy of the model:\n",
      " 0.92\n"
     ]
    },
    {
     "data": {
      "text/plain": [
       "<Axes: >"
      ]
     },
     "execution_count": 34,
     "metadata": {},
     "output_type": "execute_result"
    },
    {
     "data": {
      "image/png": "[encoded data removed]",
      "text/plain": [
       "<Figure size 640x480 with 1 Axes>"
      ]
     },
     "metadata": {},
     "output_type": "display_data"
    }
   ],
   "source": [
    "# Random FOrest (Bagging of multiple Decision Trees)\n",
    "from sklearn.ensemble import RandomForestClassifier\n",
    "\n",
    "# choose from different tunable hyper parameters\n",
    "clf=RandomForestClassifier(max_depth=2, n_estimators=100, criterion='gini')\n",
    "\n",
    "# Creating model on the training data\n",
    "RF=clf.fit(X_train, y_train)\n",
    "\n",
    "# Creating prediction on test data\n",
    "prediction=RF.predict(X_test)\n",
    "\n",
    "# Measuring the accuarcy on the testing data\n",
    "from sklearn import metrics\n",
    "print(metrics.classification_report(y_test, prediction))\n",
    "print(metrics.confusion_matrix(y_test, prediction))\n",
    "\n",
    "# Printing the overall accuracy of the model\n",
    "F1_Score=metrics.f1_score(y_test, prediction, average='weighted')\n",
    "print('Accuracy of the model on testing sample data: ', round(F1_Score,2))\n",
    "\n",
    "# Importing cross validation function from sklearn\n",
    "from sklearn.model_selection import cross_val_score\n",
    "\n",
    "# Running 10-Fold Cross validation on a given algorithm\n",
    "# Passing full data X and y because the K-fold will split the data and automatically choose train/test\n",
    "Accuracy_Values=cross_val_score(RF, X, y, cv=10, scoring='f1_weighted')\n",
    "print(\"\\nAccuracy value for 10-fold cross validation:\\n\", Accuracy_Values)\n",
    "print(\"\\nFinal Average accuracy of the model:\\n\", round(Accuracy_Values.mean(),2))\n",
    "\n",
    "# Plotting the feature importance for top 10 most important columns\n",
    "%matplotlib inline\n",
    "feature_importances=pd.Series(RF.feature_importances_, index=Predictors)\n",
    "feature_importances.nlargest(10).plot(kind='barh')"
   ]
  },
  {
   "cell_type": "code",
   "execution_count": null,
   "metadata": {},
   "outputs": [],
   "source": []
  },
  {
   "cell_type": "markdown",
   "metadata": {},
   "source": [
    "# AdaBoost"
   ]
  },
  {
   "cell_type": "code",
   "execution_count": 35,
   "metadata": {},
   "outputs": [
    {
     "name": "stdout",
     "output_type": "stream",
     "text": [
      "              precision    recall  f1-score   support\n",
      "\n",
      "           0       0.92      0.97      0.95      1090\n",
      "           1       0.96      0.90      0.93       908\n",
      "\n",
      "    accuracy                           0.94      1998\n",
      "   macro avg       0.94      0.94      0.94      1998\n",
      "weighted avg       0.94      0.94      0.94      1998\n",
      "\n",
      "[[1060   30]\n",
      " [  93  815]]\n",
      "Accuracy of the model on Testing data: 0.94\n",
      "\n",
      "Accuracy values for 10-fold cross validation:\n",
      " [0.93679193 0.90742786 0.93502653 0.94116318 0.93655492 0.9577476\n",
      " 0.94719772 0.94270009 0.94556126 0.950233  ]\n",
      "\n",
      "Final average Accuracy of the model: 0.94\n"
     ]
    },
    {
     "data": {
      "text/plain": [
       "<Axes: >"
      ]
     },
     "execution_count": 35,
     "metadata": {},
     "output_type": "execute_result"
    },
    {
     "data": {
      "image/png": "[encoded data removed]",
      "text/plain": [
       "<Figure size 640x480 with 1 Axes>"
      ]
     },
     "metadata": {},
     "output_type": "display_data"
    }
   ],
   "source": [
    "# AdaBoost\n",
    "from sklearn.ensemble import AdaBoostClassifier\n",
    "from sklearn.tree import DecisionTreeClassifier\n",
    "\n",
    "# Chosing Decision Tree with 1 level as the weak learner\n",
    "DTC=DecisionTreeClassifier(max_depth=1)\n",
    "clf=AdaBoostClassifier(n_estimators=500, estimator=DTC, learning_rate=0.01)\n",
    "\n",
    "# Creating model on Training data\n",
    "AB=clf.fit(X_train, y_train)\n",
    "\n",
    "# Creating prediction on Test data\n",
    "prediction=AB.predict(X_test)\n",
    "\n",
    "# Measuring Accuracy on Testing Data\n",
    "from sklearn import metrics\n",
    "print(metrics.classification_report(y_test, prediction))\n",
    "print(metrics.confusion_matrix(y_test, prediction))\n",
    "\n",
    "# Printing overall Accuracy of the model\n",
    "F1_Score=metrics.f1_score(y_test, prediction, average='weighted')\n",
    "print('Accuracy of the model on Testing data:', round(F1_Score,2))\n",
    "\n",
    "# Imporing cross-validation function from sklearn\n",
    "from sklearn.model_selection import cross_val_score\n",
    "\n",
    "# Running 10-Fold Cross validation on a given algorithm\n",
    "# Passing full data X and y because the K-fold will split the data and automatically choose train/test\n",
    "Accuracy_Values=cross_val_score(AB, X, y, cv=10, scoring='f1_weighted')\n",
    "print(\"\\nAccuracy values for 10-fold cross validation:\\n\", Accuracy_Values)\n",
    "print(\"\\nFinal average Accuracy of the model:\", round(Accuracy_Values.mean(),2))\n",
    "\n",
    "# Ploting the feature importance for top 10 most important columns\n",
    "%matplotlib inline\n",
    "feature_importances=pd.Series(AB.feature_importances_, index=Predictors)\n",
    "feature_importances.nlargest(10).plot(kind='barh')"
   ]
  },
  {
   "cell_type": "code",
   "execution_count": null,
   "metadata": {},
   "outputs": [],
   "source": []
  },
  {
   "cell_type": "markdown",
   "metadata": {},
   "source": [
    "## XGBoost"
   ]
  },
  {
   "cell_type": "code",
   "execution_count": 36,
   "metadata": {},
   "outputs": [
    {
     "name": "stdout",
     "output_type": "stream",
     "text": [
      "              precision    recall  f1-score   support\n",
      "\n",
      "           0       0.91      0.96      0.94      1090\n",
      "           1       0.95      0.89      0.92       908\n",
      "\n",
      "    accuracy                           0.93      1998\n",
      "   macro avg       0.93      0.93      0.93      1998\n",
      "weighted avg       0.93      0.93      0.93      1998\n",
      "\n",
      "[[1050   40]\n",
      " [ 101  807]]\n",
      "Accuracy of the model on Testing Sample data:  0.93\n",
      "\n",
      "Accuracy values for 10-fold cross validation:\n",
      " [0.920338   0.89365791 0.91377386 0.92905824 0.93655492 0.93509584\n",
      " 0.93668304 0.93666852 0.93492278 0.93811431]\n",
      "\n",
      "Final average accuracy of the model:  0.93\n"
     ]
    },
    {
     "data": {
      "text/plain": [
       "<Axes: >"
      ]
     },
     "execution_count": 36,
     "metadata": {},
     "output_type": "execute_result"
    },
    {
     "data": {
      "image/png": "[encoded data removed]",
      "text/plain": [
       "<Figure size 640x480 with 1 Axes>"
      ]
     },
     "metadata": {},
     "output_type": "display_data"
    }
   ],
   "source": [
    "# Xtreme Gradient Boosting\n",
    "from xgboost import XGBClassifier\n",
    "\n",
    "\n",
    "# choose from different tunable hyper parameters\n",
    "clf=XGBClassifier(max_depth=2, learning_rate=0.01, n_estimators=200, objective='binary:logistic', booster='gbtree')\n",
    "\n",
    "# Creating model on training data\n",
    "XGB=clf.fit(X_train, y_train)\n",
    "\n",
    "# Creating prediction on test data\n",
    "prediction=XGB.predict(X_test)\n",
    "\n",
    "# Measusing accuracy on testing data\n",
    "from sklearn import metrics\n",
    "print(metrics.classification_report(y_test, prediction))\n",
    "print(metrics.confusion_matrix(y_test, prediction))\n",
    "\n",
    "# Printing the overall accuracy of the model\n",
    "F1_Score=metrics.f1_score(y_test, prediction, average='weighted')\n",
    "print(\"Accuracy of the model on Testing Sample data: \", round(F1_Score,2))\n",
    "\n",
    "# Importing cross validation function from sklearn\n",
    "from sklearn.model_selection import cross_val_score\n",
    "\n",
    "# Running 10-Fold Cross validation on a given algorithm\n",
    "# Passing full data X and y because the K-fold will split the data and automatically choose train/test\n",
    "Accuracy_Values=cross_val_score(XGB, X, y, cv=10, scoring='f1_weighted')\n",
    "print(\"\\nAccuracy values for 10-fold cross validation:\\n\", Accuracy_Values)\n",
    "print(\"\\nFinal average accuracy of the model: \", round(Accuracy_Values.mean(),2))\n",
    "\n",
    "# Plotting the feature importance for top 10 most important columns\n",
    "%matplotlib inline\n",
    "feature_importances=pd.Series(XGB.feature_importances_, index=Predictors)\n",
    "feature_importances.nlargest(10).plot(kind='barh')"
   ]
  },
  {
   "cell_type": "code",
   "execution_count": null,
   "metadata": {},
   "outputs": [],
   "source": []
  },
  {
   "cell_type": "markdown",
   "metadata": {},
   "source": [
    "## KNN"
   ]
  },
  {
   "cell_type": "code",
   "execution_count": 37,
   "metadata": {},
   "outputs": [
    {
     "name": "stdout",
     "output_type": "stream",
     "text": [
      "              precision    recall  f1-score   support\n",
      "\n",
      "           0       0.75      0.80      0.77      1090\n",
      "           1       0.74      0.68      0.71       908\n",
      "\n",
      "    accuracy                           0.75      1998\n",
      "   macro avg       0.75      0.74      0.74      1998\n",
      "weighted avg       0.75      0.75      0.75      1998\n",
      "\n",
      "[[873 217]\n",
      " [290 618]]\n",
      "Accuracy of the model on testing data: 0.75\n",
      "\n",
      "Accuracy values for 10-fold cross validation:\n",
      " [0.75843342 0.75583557 0.7433355  0.78247402 0.74582845 0.74049448\n",
      " 0.75483191 0.76644885 0.73787474 0.75479348]\n",
      "\n",
      "Final average accuracy of the Model: 0.75\n"
     ]
    }
   ],
   "source": [
    "# K-Nearest Neighbor (KNN)\n",
    "from sklearn.neighbors import KNeighborsClassifier\n",
    "\n",
    "# Choose from different tunable hyper parameters\n",
    "clf=KNeighborsClassifier(n_neighbors=3)\n",
    "\n",
    "# Creating the model on training data\n",
    "KNN=clf.fit(X_train, y_train)\n",
    "\n",
    "# Creating prediction on Test data\n",
    "prediction=KNN.predict(X_test)\n",
    "\n",
    "# Measuring accuracy on Testing data\n",
    "from sklearn import metrics\n",
    "print(metrics.classification_report(y_test, prediction))\n",
    "print(metrics.confusion_matrix(y_test, prediction))\n",
    "\n",
    "# Printing overall accuracy on the Test data\n",
    "F1_Score=metrics.f1_score(y_test, prediction, average='weighted')\n",
    "print(\"Accuracy of the model on testing data:\", round(F1_Score,2))\n",
    "\n",
    "# Importing cross validation function from sklearn\n",
    "from sklearn.model_selection import cross_val_score\n",
    "\n",
    "# Running 10-Fold Cross validation on a given algorithm\n",
    "# Passing full data X and y because the K-fold will split the data and automatically choose train/test\n",
    "Accuracy_Values=cross_val_score(KNN, X, y, cv=10, scoring='f1_weighted')\n",
    "print(\"\\nAccuracy values for 10-fold cross validation:\\n\",Accuracy_Values)\n",
    "print(\"\\nFinal average accuracy of the Model:\", round(Accuracy_Values.mean(),2))"
   ]
  },
  {
   "cell_type": "code",
   "execution_count": null,
   "metadata": {},
   "outputs": [],
   "source": []
  },
  {
   "cell_type": "markdown",
   "metadata": {},
   "source": [
    "## SVM"
   ]
  },
  {
   "cell_type": "code",
   "execution_count": 38,
   "metadata": {},
   "outputs": [
    {
     "name": "stdout",
     "output_type": "stream",
     "text": [
      "              precision    recall  f1-score   support\n",
      "\n",
      "           0       0.91      0.97      0.93      1090\n",
      "           1       0.95      0.88      0.92       908\n",
      "\n",
      "    accuracy                           0.93      1998\n",
      "   macro avg       0.93      0.92      0.93      1998\n",
      "weighted avg       0.93      0.93      0.93      1998\n",
      "\n",
      "[[1052   38]\n",
      " [ 109  799]]\n",
      "Accuracy of the model on Testing Sample data:  0.93\n",
      "\n",
      "Accuracy values for 1-fold cross validation:\n",
      " [0.93839432 0.89506222 0.92160758 0.93512863 0.93353373 0.94259731\n",
      " 0.94415224 0.94729481 0.94107037 0.93204514]\n",
      "\n",
      "Final average accuracy of the model: 0.93\n"
     ]
    }
   ],
   "source": [
    "# Support Vector Machine (SVM)\n",
    "from sklearn import svm\n",
    "\n",
    "# choose from different tunable hyper parameters\n",
    "clf=svm.SVC(C=3, kernel='rbf', gamma=0.1)\n",
    "\n",
    "# Creating the model on training data\n",
    "SVM=clf.fit(X_train, y_train)\n",
    "\n",
    "# Creating prediction on Test data\n",
    "prediction=SVM.predict(X_test)\n",
    "\n",
    "# Measuring accuracy on Testing data\n",
    "from sklearn import metrics\n",
    "print(metrics.classification_report(y_test, prediction))\n",
    "print(metrics.confusion_matrix(y_test, prediction))\n",
    "\n",
    "# Printing overall accuracy of the model\n",
    "F1_Score=metrics.f1_score(y_test, prediction, average='weighted')\n",
    "print(\"Accuracy of the model on Testing Sample data: \", round(F1_Score,2))\n",
    "\n",
    "# Importing cross validation function from sklearn\n",
    "from sklearn.model_selection import cross_val_score\n",
    "\n",
    "# Running 10-Fold Cross validation on a given algorithm\n",
    "# Passing full data X and y because the K-fold will split the data and automatically choose train/test\n",
    "Accuracy_Values=cross_val_score(SVM, X, y, cv=10, scoring='f1_weighted')\n",
    "print(\"\\nAccuracy values for 1-fold cross validation:\\n\", Accuracy_Values)\n",
    "print(\"\\nFinal average accuracy of the model:\",round(Accuracy_Values.mean(),2))"
   ]
  },
  {
   "cell_type": "code",
   "execution_count": null,
   "metadata": {},
   "outputs": [],
   "source": []
  },
  {
   "cell_type": "markdown",
   "metadata": {},
   "source": [
    "## Naive Bayse"
   ]
  },
  {
   "cell_type": "code",
   "execution_count": 39,
   "metadata": {},
   "outputs": [
    {
     "name": "stdout",
     "output_type": "stream",
     "text": [
      "              precision    recall  f1-score   support\n",
      "\n",
      "           0       0.89      0.27      0.42      1090\n",
      "           1       0.52      0.96      0.68       908\n",
      "\n",
      "    accuracy                           0.58      1998\n",
      "   macro avg       0.71      0.62      0.55      1998\n",
      "weighted avg       0.72      0.58      0.54      1998\n",
      "\n",
      "[[297 793]\n",
      " [ 37 871]]\n",
      "Accuracy of the model on the Testing sample data: 0.54\n",
      "\n",
      "Accuracy values for 10-fold cross validation:\n",
      " [0.51885115 0.56941062 0.52142512 0.55961384 0.56683971 0.52475557\n",
      " 0.53819316 0.57632213 0.57244641 0.54224533]\n",
      "\n",
      "Final average accuracy of the Model:  0.55\n"
     ]
    }
   ],
   "source": [
    "# Naive Bayse\n",
    "from sklearn.naive_bayes import GaussianNB, MultinomialNB\n",
    "\n",
    "clf=GaussianNB()\n",
    "# clf=MultinomialNB()\n",
    "\n",
    "# Creating the model on Training data\n",
    "NB=clf.fit(X_train, y_train)\n",
    "\n",
    "# Creating prediction on Testing data\n",
    "prediction=NB.predict(X_test)\n",
    "\n",
    "# Measuring the accuracy on Testing data\n",
    "from sklearn import metrics\n",
    "print(metrics.classification_report(y_test, prediction))\n",
    "print(metrics.confusion_matrix(y_test, prediction))\n",
    "\n",
    "# Printing the overall acuracy of the model\n",
    "F1_Score=metrics.f1_score(y_test, prediction, average='weighted')\n",
    "print(\"Accuracy of the model on the Testing sample data:\", round(F1_Score,2))\n",
    "\n",
    "# Importing cross validation function from sklearn\n",
    "from sklearn.model_selection import cross_val_score\n",
    "\n",
    "# Running 10-Fold Cross validation on a given algorithm\n",
    "# Passing full data X and y because the K-fold will split the data and automatically choose train/test\n",
    "Accuracy_Values=cross_val_score(NB, X, y, cv=10, scoring='f1_weighted')\n",
    "print('\\nAccuracy values for 10-fold cross validation:\\n', Accuracy_Values)\n",
    "print(\"\\nFinal average accuracy of the Model: \",round(Accuracy_Values.mean(),2))"
   ]
  },
  {
   "cell_type": "code",
   "execution_count": null,
   "metadata": {},
   "outputs": [],
   "source": []
  },
  {
   "cell_type": "markdown",
   "metadata": {},
   "source": [
    "## Deployment of the Model\n",
    "\n",
    "Based on the trials, the algorithm that achieves the best average accuracy is selected. In this case, multiple algorithms have produced similar average accuracy, allowing for flexibility in choosing any of them.\n",
    "\n",
    "Adaboost is chosen as the final model due to its speed and effective use of predictors, as observed in its variable importance chart. It ensures that no single predictor dominates the decision, which is beneficial.\n",
    "\n",
    "To deploy the model, the following steps are followed:\n",
    "1.\tTrain the model using 100% of the available data.\n",
    "2.\tSave the model as a serialized file for storage and future use.\n",
    "3.\tDevelop a Python function that integrates with front-end applications to take inputs and return predictions."
   ]
  },
  {
   "cell_type": "markdown",
   "metadata": {},
   "source": [
    "<b>Step 1. Retraining the model using 100% data<b>"
   ]
  },
  {
   "cell_type": "markdown",
   "metadata": {},
   "source": [
    "------------------------------------------------------------------------------------------------------------------------------------------------------------------\n",
    "------------------------------------------------------------------------------------------------------------------------------------------------------------------"
   ]
  },
  {
   "cell_type": "markdown",
   "metadata": {},
   "source": [
    "**Choosing only the most important variables**"
   ]
  },
  {
   "cell_type": "code",
   "execution_count": 40,
   "metadata": {},
   "outputs": [],
   "source": [
    "# Separate Target Variable and Predictor Variables\n",
    "TargetVariable='Clicked'\n",
    "# Best predictors based on the multiple variable importance charts above\n",
    "Predictors=[\"Time_Spent\", 'Age', \"Avg_Income\", \"Internet_Usage\"]\n",
    "\n",
    "X=DataForML_Numeric[Predictors].values\n",
    "y=DataForML_Numeric[TargetVariable].values"
   ]
  },
  {
   "cell_type": "markdown",
   "metadata": {},
   "source": [
    "------------------------------------------------------------------------------------------------------------------------------------------------------------------\n",
    "------------------------------------------------------------------------------------------------------------------------------------------------------------------"
   ]
  },
  {
   "cell_type": "code",
   "execution_count": 41,
   "metadata": {},
   "outputs": [],
   "source": [
    "# Adaboost \n",
    "from sklearn.ensemble import AdaBoostClassifier\n",
    "from sklearn.tree import DecisionTreeClassifier\n",
    "\n",
    "# Using the Adaboost algorithm with final hyperparamters\n",
    "# Choosing Decision Tree with 1 level as the weak learner\n",
    "DTC=DecisionTreeClassifier(max_depth=1)\n",
    "clf = AdaBoostClassifier(n_estimators=500, estimator=DTC ,learning_rate=0.01)\n",
    "\n",
    "# Training the model on 100% Data available\n",
    "FinalAdaboostModel=clf.fit(X,y)"
   ]
  },
  {
   "cell_type": "markdown",
   "metadata": {},
   "source": [
    "**Step 2. Save the model as a serialized file which can be stored anywhere**"
   ]
  },
  {
   "cell_type": "code",
   "execution_count": 42,
   "metadata": {},
   "outputs": [],
   "source": [
    "import pickle\n",
    "import os\n",
    "\n",
    "# Saving the Python objects as serialized files can be done using pickle library\n",
    "# Here let us save the Final Model\n",
    "with open('FinalAdaboostModel.pkl', 'wb') as fileWriteStream:\n",
    "    pickle.dump(FinalAdaboostModel, fileWriteStream)\n",
    "    # Don't forget to close the filestream!\n",
    "    fileWriteStream.close()\n",
    "    \n",
    "# print('pickle file of Predictive Model is saved at Location:',os.getcwd())"
   ]
  },
  {
   "cell_type": "markdown",
   "metadata": {},
   "source": [
    "**Step 3. Create a python function**"
   ]
  },
  {
   "cell_type": "code",
   "execution_count": 43,
   "metadata": {},
   "outputs": [],
   "source": [
    "# This function can be called from any front end tools/website\n",
    "def PredictClickStatus(InputData):\n",
    "    import pandas as pd\n",
    "    Num_Input=InputData.shape[0]\n",
    "\n",
    "    # Making sure the input data has same columns as it was used for training the model\n",
    "    # Also, if standardization/normalization was done, then same must be done for new input\n",
    "\n",
    "    # Appending the new data with the Training data\n",
    "    DataForML=pd.read_pickle('DataForML.pkl')\n",
    "    InputData = pd.concat([InputData, DataForML], ignore_index=True)\n",
    "\n",
    "    # Treating the binary nominal variables first\n",
    "    # Every column which was converted to numeric has to be converted here as well\n",
    "    InputData['Male'].replace({'Yes':1, 'No':0}, inplace=True)\n",
    "\n",
    "    # Generating dummy variables for rest of the nominal variables\n",
    "    InputData=pd.get_dummies(InputData)\n",
    "\n",
    "    # Maintaining the same order of columns as it was during the model training\n",
    "    Predictors=[\"Time_Spent\", 'Age', \"Avg_Income\", \"Internet_Usage\"]\n",
    "\n",
    "    # Generating the input values to the model\n",
    "    X=InputData[Predictors].values[0:Num_Input]\n",
    "\n",
    "    # Loading the function fron pickle file\n",
    "    import pickle\n",
    "    with open('FinalAdaboostModel.pkl','rb') as fileReadStream:\n",
    "        AdaBoost_model=pickle.load(fileReadStream)\n",
    "        # Don't forget to close the filestream!\n",
    "        fileReadStream.close()\n",
    "    \n",
    "    # Generating Predictions\n",
    "    Prediction=AdaBoost_model.predict(X)\n",
    "    PredictedStatus=pd.DataFrame(Prediction, columns=['ClickPrediction'])\n",
    "    return(PredictedStatus)"
   ]
  },
  {
   "cell_type": "code",
   "execution_count": null,
   "metadata": {},
   "outputs": [],
   "source": []
  },
  {
   "cell_type": "markdown",
   "metadata": {},
   "source": [
    "## Testing Model with Sample Data"
   ]
  },
  {
   "cell_type": "code",
   "execution_count": 44,
   "metadata": {},
   "outputs": [
    {
     "name": "stdout",
     "output_type": "stream",
     "text": [
      "   Time_Spent  Age  Avg_Income  Internet_Usage\n",
      "0       87.97   42    55901.12          185.46\n",
      "1       51.63   49  5039132.00          176.73\n",
      "2       70.96   26    21773.22          188.72\n"
     ]
    }
   ],
   "source": [
    "# Calling the function for some new Ads\n",
    "NewAds=pd.DataFrame(\n",
    "data=[[87.97,42, 55901.12, 185.46],\n",
    "     [51.63, 49, 5039132.00, 176.73],\n",
    "     [70.96, 26, 21773.22, 188.72]],\n",
    "columns=[\"Time_Spent\", 'Age', \"Avg_Income\", \"Internet_Usage\"])\n",
    "\n",
    "print(NewAds)"
   ]
  },
  {
   "cell_type": "code",
   "execution_count": 45,
   "metadata": {},
   "outputs": [
    {
     "data": {
      "text/html": [
       "<div>\n",
       "<style scoped>\n",
       "    .dataframe tbody tr th:only-of-type {\n",
       "        vertical-align: middle;\n",
       "    }\n",
       "\n",
       "    .dataframe tbody tr th {\n",
       "        vertical-align: top;\n",
       "    }\n",
       "\n",
       "    .dataframe thead th {\n",
       "        text-align: right;\n",
       "    }\n",
       "</style>\n",
       "<table border=\"1\" class=\"dataframe\">\n",
       "  <thead>\n",
       "    <tr style=\"text-align: right;\">\n",
       "      <th></th>\n",
       "      <th>Time_Spent</th>\n",
       "      <th>Age</th>\n",
       "      <th>Avg_Income</th>\n",
       "      <th>Internet_Usage</th>\n",
       "      <th>ClickPrediction</th>\n",
       "    </tr>\n",
       "  </thead>\n",
       "  <tbody>\n",
       "    <tr>\n",
       "      <th>0</th>\n",
       "      <td>87.97</td>\n",
       "      <td>42</td>\n",
       "      <td>55901.12</td>\n",
       "      <td>185.46</td>\n",
       "      <td>0</td>\n",
       "    </tr>\n",
       "    <tr>\n",
       "      <th>1</th>\n",
       "      <td>51.63</td>\n",
       "      <td>49</td>\n",
       "      <td>5039132.00</td>\n",
       "      <td>176.73</td>\n",
       "      <td>1</td>\n",
       "    </tr>\n",
       "    <tr>\n",
       "      <th>2</th>\n",
       "      <td>70.96</td>\n",
       "      <td>26</td>\n",
       "      <td>21773.22</td>\n",
       "      <td>188.72</td>\n",
       "      <td>1</td>\n",
       "    </tr>\n",
       "  </tbody>\n",
       "</table>\n",
       "</div>"
      ],
      "text/plain": [
       "   Time_Spent  Age  Avg_Income  Internet_Usage  ClickPrediction\n",
       "0       87.97   42    55901.12          185.46                0\n",
       "1       51.63   49  5039132.00          176.73                1\n",
       "2       70.96   26    21773.22          188.72                1"
      ]
     },
     "execution_count": 45,
     "metadata": {},
     "output_type": "execute_result"
    }
   ],
   "source": [
    "# Calling the Function for prediction and storing with the input data\n",
    "NewAds['ClickPrediction']=PredictClickStatus(InputData= NewAds)\n",
    "NewAds"
   ]
  },
  {
   "cell_type": "code",
   "execution_count": null,
   "metadata": {},
   "outputs": [],
   "source": []
  }
 ],
 "metadata": {
  "kernelspec": {
   "display_name": "Python 3",
   "language": "python",
   "name": "python3"
  },
  "language_info": {
   "codemirror_mode": {
    "name": "ipython",
    "version": 3
   },
   "file_extension": ".py",
   "mimetype": "text/x-python",
   "name": "python",
   "nbconvert_exporter": "python",
   "pygments_lexer": "ipython3",
   "version": "3.11.9"
  }
 },
 "nbformat": 4,
 "nbformat_minor": 2
}
